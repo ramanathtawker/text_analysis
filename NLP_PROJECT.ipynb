{
 "cells": [
  {
   "cell_type": "markdown",
   "metadata": {
    "id": "Ls0A43gmlIwo"
   },
   "source": [
    "#**Assessing People’s Behaviour in Text Messages Using Natural Language Processing**\n"
   ]
  },
  {
   "cell_type": "markdown",
   "metadata": {
    "id": "ezJjacsVlumC"
   },
   "source": [
    "Importing Libraries"
   ]
  },
  {
   "cell_type": "code",
   "execution_count": null,
   "metadata": {
    "colab": {
     "base_uri": "https://localhost:8080/"
    },
    "id": "BuHf_0HzrfBn",
    "outputId": "cd4be1b1-1f65-4b47-c44d-2154bd0a5313"
   },
   "outputs": [
    {
     "name": "stderr",
     "output_type": "stream",
     "text": [
      "/usr/local/lib/python3.7/dist-packages/nltk/twitter/__init__.py:20: UserWarning: The twython library has not been installed. Some functionality from the twitter package will not be available.\n",
      "  warnings.warn(\"The twython library has not been installed. \"\n"
     ]
    },
    {
     "name": "stdout",
     "output_type": "stream",
     "text": [
      "[nltk_data] Downloading package punkt to /root/nltk_data...\n",
      "[nltk_data]   Unzipping tokenizers/punkt.zip.\n"
     ]
    },
    {
     "data": {
      "text/plain": [
       "True"
      ]
     },
     "execution_count": 2,
     "metadata": {},
     "output_type": "execute_result"
    }
   ],
   "source": [
    "import pandas as pd\n",
    "import numpy as np\n",
    "from collections import defaultdict\n",
    "from collections import Counter\n",
    "from wordcloud import WordCloud\n",
    "import matplotlib.pyplot as plt\n",
    "import seaborn as sns\n",
    "import nltk\n",
    "from nltk.corpus import stopwords   # may need to download (see below)\n",
    "from nltk.sentiment.vader import SentimentIntensityAnalyzer   # again, may need to download (see below)\n",
    "%matplotlib inline \n",
    "nltk.download('punkt')"
   ]
  },
  {
   "cell_type": "code",
   "execution_count": null,
   "metadata": {
    "id": "7SiqWl47EVrQ"
   },
   "outputs": [],
   "source": [
    "with open('nlp_trial_3.txt') as f:\n",
    "    content = f.readlines()\n",
    "\n",
    "content = [x.strip() for x in content] "
   ]
  },
  {
   "cell_type": "code",
   "execution_count": null,
   "metadata": {
    "colab": {
     "base_uri": "https://localhost:8080/"
    },
    "id": "LB3EJr9Vrsh6",
    "outputId": "9ded882d-1aa3-4c39-a75f-87498acbe83a"
   },
   "outputs": [
    {
     "data": {
      "text/plain": [
       "[\"22/07/2020, 5:02 PM - Person1: Ma'am this is Person1. Can you allot us a time after 6PM to explain our project title ?\",\n",
       " '22/07/2020, 5:02 PM - Person1: review 1 basically!',\n",
       " '22/07/2020, 5:02 PM - Person1: Regards',\n",
       " '22/07/2020, 5:03 PM - Person2: I am in a  meeting. It continues till 6',\n",
       " \"22/07/2020, 5:03 PM - Person1: so after 6  ma'am?\"]"
      ]
     },
     "execution_count": 6,
     "metadata": {},
     "output_type": "execute_result"
    }
   ],
   "source": [
    "content[:5]"
   ]
  },
  {
   "cell_type": "markdown",
   "metadata": {
    "id": "ktRIM3C4i9bk"
   },
   "source": [
    "\n",
    "Formatting Data\n",
    "\n",
    "Tokenizing"
   ]
  },
  {
   "cell_type": "code",
   "execution_count": null,
   "metadata": {
    "id": "BSPHZ-FZsCLM"
   },
   "outputs": [],
   "source": [
    "tokenizer = nltk.data.load('tokenizers/punkt/english.pickle')\n",
    "#Punkt Sentence Tokenizer\n",
    "\n",
    "# This tokenizer divides a text into a list of sentences, by using an unsupervised algorithm to build a model for abbreviation words, collocations, and words that start sentences. It must be trained on a large collection of plaintext in the target language before it can be used.\n",
    "\n",
    "# The NLTK data package includes a pre-trained Punkt tokenizer for English.\n"
   ]
  },
  {
   "cell_type": "markdown",
   "metadata": {
    "id": "JtYvAwuOjP_f"
   },
   "source": [
    "However, Punkt is designed to learn parameters (a list of abbreviations, etc.) unsupervised from a corpus similar to the target domain. The pre-packaged models may therefore be unsuitable: use PunktSentenceTokenizer(text) to learn parameters from the given text.\n",
    "\n",
    "nltk.tokenize.punkt.PunktTrainer learns parameters such as a list of abbreviations (without supervision) from portions of text. Using a PunktTrainer directly allows for incremental training and modification of the hyper-parameters used to decide what is considered an abbreviation, etc."
   ]
  },
  {
   "cell_type": "code",
   "execution_count": null,
   "metadata": {
    "colab": {
     "base_uri": "https://localhost:8080/"
    },
    "id": "4nNwVCGpExoN",
    "outputId": "9e8f98a9-1cc9-43cb-e1c4-f9bce64432ea"
   },
   "outputs": [
    {
     "name": "stdout",
     "output_type": "stream",
     "text": [
      "[nltk_data] Downloading package vader_lexicon to /root/nltk_data...\n"
     ]
    }
   ],
   "source": [
    "nltk.download('vader_lexicon')\n",
    "sid = SentimentIntensityAnalyzer() "
   ]
  },
  {
   "cell_type": "code",
   "execution_count": null,
   "metadata": {
    "colab": {
     "base_uri": "https://localhost:8080/"
    },
    "id": "mbr_7pIDAGZG",
    "outputId": "41865a00-be90-4868-8ffb-cf8787187f13"
   },
   "outputs": [
    {
     "data": {
      "text/plain": [
       "{'compound': 0.4404, 'neg': 0.0, 'neu': 0.0, 'pos': 1.0}"
      ]
     },
     "execution_count": 9,
     "metadata": {},
     "output_type": "execute_result"
    }
   ],
   "source": [
    "#Examples\n",
    "sid.polarity_scores('Good')\n",
    "\n"
   ]
  },
  {
   "cell_type": "code",
   "execution_count": null,
   "metadata": {
    "colab": {
     "base_uri": "https://localhost:8080/"
    },
    "id": "eA8Z_n69kN0H",
    "outputId": "f7f39ecf-82e2-4320-e48c-12bd3f381e18"
   },
   "outputs": [
    {
     "data": {
      "text/plain": [
       "{'compound': -0.3412, 'neg': 0.706, 'neu': 0.294, 'pos': 0.0}"
      ]
     },
     "execution_count": 10,
     "metadata": {},
     "output_type": "execute_result"
    }
   ],
   "source": [
    "sid.polarity_scores('Not Good')\n"
   ]
  },
  {
   "cell_type": "code",
   "execution_count": null,
   "metadata": {
    "colab": {
     "base_uri": "https://localhost:8080/"
    },
    "id": "rCAFSRpVkPbM",
    "outputId": "2ccfad3b-7436-4d74-f924-ea8c6a0cad94"
   },
   "outputs": [
    {
     "data": {
      "text/plain": [
       "{'compound': 0.0, 'neg': 0.0, 'neu': 1.0, 'pos': 0.0}"
      ]
     },
     "execution_count": 11,
     "metadata": {},
     "output_type": "execute_result"
    }
   ],
   "source": [
    "sid.polarity_scores(\"Okayish\")"
   ]
  },
  {
   "cell_type": "markdown",
   "metadata": {
    "id": "DkhtEbhzkXIl"
   },
   "source": [
    " run-through and just plot the mean polarity of each days messages:"
   ]
  },
  {
   "cell_type": "code",
   "execution_count": null,
   "metadata": {
    "id": "Y0s_dzo4FK9y"
   },
   "outputs": [],
   "source": [
    "pol_lst=[]\n",
    "date_lst=[]\n",
    "i=0\n",
    "\n",
    "for line in content:\n",
    "    \n",
    "    try:\n",
    "        text = nltk.sent_tokenize(line.split(':')[2].replace('\\n',' '))\n",
    "        #print(text)\n",
    "        date = line.split(',')[0].split(',')[0]\n",
    "        #print(date)\n",
    "        for token in text:\n",
    "            #print(token)\n",
    "            ss = sid.polarity_scores(token)  \n",
    "            pol_lst.append(ss['compound'])\n",
    "            date_lst.append(date)\n",
    "            \n",
    "    except:\n",
    "        \n",
    "        print(i, line) # uncomment this to print the message that couldn't be read\n",
    "        \n",
    "        pass\n",
    "    i+=1   # uncomment this to see the line number that the message fails to be read"
   ]
  },
  {
   "cell_type": "code",
   "execution_count": null,
   "metadata": {
    "id": "FYid1gTiIdVS"
   },
   "outputs": [],
   "source": [
    "df = pd.DataFrame({'date' : date_lst, 'pol' : pol_lst})"
   ]
  },
  {
   "cell_type": "code",
   "execution_count": null,
   "metadata": {
    "colab": {
     "base_uri": "https://localhost:8080/",
     "height": 424
    },
    "id": "uJTubfKnNeSJ",
    "outputId": "4085daa6-b5cd-4db6-aa44-f9c9319c7349"
   },
   "outputs": [
    {
     "data": {
      "text/html": [
       "<div>\n",
       "<style scoped>\n",
       "    .dataframe tbody tr th:only-of-type {\n",
       "        vertical-align: middle;\n",
       "    }\n",
       "\n",
       "    .dataframe tbody tr th {\n",
       "        vertical-align: top;\n",
       "    }\n",
       "\n",
       "    .dataframe thead th {\n",
       "        text-align: right;\n",
       "    }\n",
       "</style>\n",
       "<table border=\"1\" class=\"dataframe\">\n",
       "  <thead>\n",
       "    <tr style=\"text-align: right;\">\n",
       "      <th></th>\n",
       "      <th>date</th>\n",
       "      <th>pol</th>\n",
       "    </tr>\n",
       "  </thead>\n",
       "  <tbody>\n",
       "    <tr>\n",
       "      <th>0</th>\n",
       "      <td>22/07/2020</td>\n",
       "      <td>0.000</td>\n",
       "    </tr>\n",
       "    <tr>\n",
       "      <th>1</th>\n",
       "      <td>22/07/2020</td>\n",
       "      <td>0.000</td>\n",
       "    </tr>\n",
       "    <tr>\n",
       "      <th>2</th>\n",
       "      <td>22/07/2020</td>\n",
       "      <td>0.000</td>\n",
       "    </tr>\n",
       "    <tr>\n",
       "      <th>3</th>\n",
       "      <td>22/07/2020</td>\n",
       "      <td>0.000</td>\n",
       "    </tr>\n",
       "    <tr>\n",
       "      <th>4</th>\n",
       "      <td>22/07/2020</td>\n",
       "      <td>0.000</td>\n",
       "    </tr>\n",
       "    <tr>\n",
       "      <th>...</th>\n",
       "      <td>...</td>\n",
       "      <td>...</td>\n",
       "    </tr>\n",
       "    <tr>\n",
       "      <th>103</th>\n",
       "      <td>24/12/2020</td>\n",
       "      <td>0.000</td>\n",
       "    </tr>\n",
       "    <tr>\n",
       "      <th>104</th>\n",
       "      <td>24/12/2020</td>\n",
       "      <td>-0.296</td>\n",
       "    </tr>\n",
       "    <tr>\n",
       "      <th>105</th>\n",
       "      <td>24/12/2020</td>\n",
       "      <td>0.000</td>\n",
       "    </tr>\n",
       "    <tr>\n",
       "      <th>106</th>\n",
       "      <td>24/12/2020</td>\n",
       "      <td>0.000</td>\n",
       "    </tr>\n",
       "    <tr>\n",
       "      <th>107</th>\n",
       "      <td>24/12/2020</td>\n",
       "      <td>0.296</td>\n",
       "    </tr>\n",
       "  </tbody>\n",
       "</table>\n",
       "<p>108 rows × 2 columns</p>\n",
       "</div>"
      ],
      "text/plain": [
       "           date    pol\n",
       "0    22/07/2020  0.000\n",
       "1    22/07/2020  0.000\n",
       "2    22/07/2020  0.000\n",
       "3    22/07/2020  0.000\n",
       "4    22/07/2020  0.000\n",
       "..          ...    ...\n",
       "103  24/12/2020  0.000\n",
       "104  24/12/2020 -0.296\n",
       "105  24/12/2020  0.000\n",
       "106  24/12/2020  0.000\n",
       "107  24/12/2020  0.296\n",
       "\n",
       "[108 rows x 2 columns]"
      ]
     },
     "execution_count": 14,
     "metadata": {},
     "output_type": "execute_result"
    }
   ],
   "source": [
    "df"
   ]
  },
  {
   "cell_type": "code",
   "execution_count": null,
   "metadata": {
    "colab": {
     "base_uri": "https://localhost:8080/"
    },
    "id": "tkCZXhD0NpqU",
    "outputId": "cd358975-0cd1-43c2-bc29-312b2951c0bf"
   },
   "outputs": [
    {
     "name": "stdout",
     "output_type": "stream",
     "text": [
      "                 pol\n",
      "date                \n",
      "01/09/2020 -0.098667\n",
      "02/09/2020  0.000000\n",
      "03/11/2020  0.074000\n",
      "05/08/2020  0.190775\n",
      "12/09/2020  0.370525\n",
      "13/09/2020 -0.296000\n",
      "14/10/2020  0.102125\n",
      "17/09/2020 -0.148000\n",
      "18/08/2020  0.067940\n",
      "19/10/2020  0.098667\n",
      "20/10/2020  0.025144\n",
      "22/07/2020  0.074658\n",
      "24/12/2020  0.040827\n",
      "26/08/2020  0.185475\n",
      "27/09/2020  0.180600\n",
      "27/10/2020  0.036786\n",
      "28/07/2020  0.165900\n",
      "28/09/2020  0.133967\n"
     ]
    }
   ],
   "source": [
    "df2 = df.groupby('date').mean()\n",
    "print(df2)"
   ]
  },
  {
   "cell_type": "code",
   "execution_count": null,
   "metadata": {
    "id": "suhbQCDwNsHW"
   },
   "outputs": [],
   "source": [
    "df2.index = pd.to_datetime(df2.index, format='%d/%m/%Y')"
   ]
  },
  {
   "cell_type": "code",
   "execution_count": null,
   "metadata": {
    "id": "r0Q_BPRzGI1c"
   },
   "outputs": [],
   "source": [
    "#df2.date=pd.to_datetime(df2.date)"
   ]
  },
  {
   "cell_type": "code",
   "execution_count": null,
   "metadata": {
    "id": "d8XDn9Wy8itU"
   },
   "outputs": [],
   "source": [
    "df2 = df2.sort_index()"
   ]
  },
  {
   "cell_type": "code",
   "execution_count": null,
   "metadata": {
    "id": "TjPf-vjV8jxt"
   },
   "outputs": [],
   "source": [
    "df2['date'] = df2.index"
   ]
  },
  {
   "cell_type": "code",
   "execution_count": null,
   "metadata": {
    "colab": {
     "base_uri": "https://localhost:8080/",
     "height": 645
    },
    "id": "l4uJcWlg8nUt",
    "outputId": "f7f6d11f-b616-4c9c-e478-4fc5dc38115c"
   },
   "outputs": [
    {
     "data": {
      "text/html": [
       "<div>\n",
       "<style scoped>\n",
       "    .dataframe tbody tr th:only-of-type {\n",
       "        vertical-align: middle;\n",
       "    }\n",
       "\n",
       "    .dataframe tbody tr th {\n",
       "        vertical-align: top;\n",
       "    }\n",
       "\n",
       "    .dataframe thead th {\n",
       "        text-align: right;\n",
       "    }\n",
       "</style>\n",
       "<table border=\"1\" class=\"dataframe\">\n",
       "  <thead>\n",
       "    <tr style=\"text-align: right;\">\n",
       "      <th></th>\n",
       "      <th>pol</th>\n",
       "      <th>date</th>\n",
       "    </tr>\n",
       "    <tr>\n",
       "      <th>date</th>\n",
       "      <th></th>\n",
       "      <th></th>\n",
       "    </tr>\n",
       "  </thead>\n",
       "  <tbody>\n",
       "    <tr>\n",
       "      <th>2020-09-01</th>\n",
       "      <td>-0.098667</td>\n",
       "      <td>01/09/2020</td>\n",
       "    </tr>\n",
       "    <tr>\n",
       "      <th>2020-09-02</th>\n",
       "      <td>0.000000</td>\n",
       "      <td>02/09/2020</td>\n",
       "    </tr>\n",
       "    <tr>\n",
       "      <th>2020-11-03</th>\n",
       "      <td>0.074000</td>\n",
       "      <td>03/11/2020</td>\n",
       "    </tr>\n",
       "    <tr>\n",
       "      <th>2020-08-05</th>\n",
       "      <td>0.190775</td>\n",
       "      <td>05/08/2020</td>\n",
       "    </tr>\n",
       "    <tr>\n",
       "      <th>2020-09-12</th>\n",
       "      <td>0.370525</td>\n",
       "      <td>12/09/2020</td>\n",
       "    </tr>\n",
       "    <tr>\n",
       "      <th>2020-09-13</th>\n",
       "      <td>-0.296000</td>\n",
       "      <td>13/09/2020</td>\n",
       "    </tr>\n",
       "    <tr>\n",
       "      <th>2020-10-14</th>\n",
       "      <td>0.102125</td>\n",
       "      <td>14/10/2020</td>\n",
       "    </tr>\n",
       "    <tr>\n",
       "      <th>2020-09-17</th>\n",
       "      <td>-0.148000</td>\n",
       "      <td>17/09/2020</td>\n",
       "    </tr>\n",
       "    <tr>\n",
       "      <th>2020-08-18</th>\n",
       "      <td>0.067940</td>\n",
       "      <td>18/08/2020</td>\n",
       "    </tr>\n",
       "    <tr>\n",
       "      <th>2020-10-19</th>\n",
       "      <td>0.098667</td>\n",
       "      <td>19/10/2020</td>\n",
       "    </tr>\n",
       "    <tr>\n",
       "      <th>2020-10-20</th>\n",
       "      <td>0.025144</td>\n",
       "      <td>20/10/2020</td>\n",
       "    </tr>\n",
       "    <tr>\n",
       "      <th>2020-07-22</th>\n",
       "      <td>0.074658</td>\n",
       "      <td>22/07/2020</td>\n",
       "    </tr>\n",
       "    <tr>\n",
       "      <th>2020-12-24</th>\n",
       "      <td>0.040827</td>\n",
       "      <td>24/12/2020</td>\n",
       "    </tr>\n",
       "    <tr>\n",
       "      <th>2020-08-26</th>\n",
       "      <td>0.185475</td>\n",
       "      <td>26/08/2020</td>\n",
       "    </tr>\n",
       "    <tr>\n",
       "      <th>2020-09-27</th>\n",
       "      <td>0.180600</td>\n",
       "      <td>27/09/2020</td>\n",
       "    </tr>\n",
       "    <tr>\n",
       "      <th>2020-10-27</th>\n",
       "      <td>0.036786</td>\n",
       "      <td>27/10/2020</td>\n",
       "    </tr>\n",
       "    <tr>\n",
       "      <th>2020-07-28</th>\n",
       "      <td>0.165900</td>\n",
       "      <td>28/07/2020</td>\n",
       "    </tr>\n",
       "    <tr>\n",
       "      <th>2020-09-28</th>\n",
       "      <td>0.133967</td>\n",
       "      <td>28/09/2020</td>\n",
       "    </tr>\n",
       "  </tbody>\n",
       "</table>\n",
       "</div>"
      ],
      "text/plain": [
       "                 pol        date\n",
       "date                            \n",
       "2020-09-01 -0.098667  01/09/2020\n",
       "2020-09-02  0.000000  02/09/2020\n",
       "2020-11-03  0.074000  03/11/2020\n",
       "2020-08-05  0.190775  05/08/2020\n",
       "2020-09-12  0.370525  12/09/2020\n",
       "2020-09-13 -0.296000  13/09/2020\n",
       "2020-10-14  0.102125  14/10/2020\n",
       "2020-09-17 -0.148000  17/09/2020\n",
       "2020-08-18  0.067940  18/08/2020\n",
       "2020-10-19  0.098667  19/10/2020\n",
       "2020-10-20  0.025144  20/10/2020\n",
       "2020-07-22  0.074658  22/07/2020\n",
       "2020-12-24  0.040827  24/12/2020\n",
       "2020-08-26  0.185475  26/08/2020\n",
       "2020-09-27  0.180600  27/09/2020\n",
       "2020-10-27  0.036786  27/10/2020\n",
       "2020-07-28  0.165900  28/07/2020\n",
       "2020-09-28  0.133967  28/09/2020"
      ]
     },
     "execution_count": 21,
     "metadata": {},
     "output_type": "execute_result"
    }
   ],
   "source": [
    "df2"
   ]
  },
  {
   "cell_type": "code",
   "execution_count": null,
   "metadata": {
    "colab": {
     "base_uri": "https://localhost:8080/",
     "height": 400
    },
    "id": "Gma5QPJ08r7p",
    "outputId": "5e4c2b13-0132-47fb-99ba-ace387dea0a8"
   },
   "outputs": [
    {
     "data": {
      "text/plain": [
       "<Figure size 432x288 with 0 Axes>"
      ]
     },
     "metadata": {},
     "output_type": "display_data"
    },
    {
     "data": {
      "image/png": "[encoded data removed]",
      "text/plain": [
       "<Figure size 936x432 with 1 Axes>"
      ]
     },
     "metadata": {},
     "output_type": "display_data"
    }
   ],
   "source": [
    "sns.set_style(\"whitegrid\")\n",
    "\n",
    "plt.figure()\n",
    "ax = df2.plot(figsize=(13,6), legend=True)\n",
    "\n",
    "ax.set_ylabel('Polarity')\n",
    "ax.xaxis.label.set_fontsize(16)\n",
    "ax.yaxis.label.set_fontsize(16)\n"
   ]
  },
  {
   "cell_type": "markdown",
   "metadata": {
    "id": "oO3tJBXCma6Q"
   },
   "source": [
    "So that worked quite well and a general trend can be drawn from the plot. However, upon doing this, there were a few issues and points that could be improved:\n",
    "\n",
    "the sentiment intensity analyzer doesn't work on emojis\n",
    "\n",
    "the plot doesn't differentiate between both participants of the chat\n",
    "\n",
    "\n",
    "splitting on ':' chracter removes further ':' characters in text which is not good for calculating a sentiment associated to e.g. a ': )' or ': (' face"
   ]
  },
  {
   "cell_type": "markdown",
   "metadata": {
    "id": "taA9NcjymqXP"
   },
   "source": []
  },
  {
   "cell_type": "code",
   "execution_count": null,
   "metadata": {
    "id": "lSTfDdKFmpFr"
   },
   "outputs": [],
   "source": [
    "import emoji\n",
    "test = content[15:25]\n",
    "for line in test:\n",
    "    for c in line:\n",
    "        if c in emoji.UNICODE_EMOJI:\n",
    "            print(c)\n",
    "            #print(c)\n",
    "            print(emoji.demojize(c).replace('_',' ').replace(':','.'))\n",
    "            print(sid.polarity_scores(emoji.demojize(c).replace('_',' ').replace(':','.'))['compound'])"
   ]
  },
  {
   "cell_type": "code",
   "execution_count": null,
   "metadata": {
    "colab": {
     "base_uri": "https://localhost:8080/"
    },
    "id": "0qSF7NYFnUJT",
    "outputId": "36a6810b-28cd-41b0-e4ee-0095f99169e3"
   },
   "outputs": [
    {
     "name": "stdout",
     "output_type": "stream",
     "text": [
      "Collecting emoji\n",
      "  Downloading emoji-1.6.1.tar.gz (170 kB)\n",
      "\u001b[?25l\r",
      "\u001b[K     |██                              | 10 kB 18.8 MB/s eta 0:00:01\r",
      "\u001b[K     |███▉                            | 20 kB 24.1 MB/s eta 0:00:01\r",
      "\u001b[K     |█████▉                          | 30 kB 13.8 MB/s eta 0:00:01\r",
      "\u001b[K     |███████▊                        | 40 kB 10.1 MB/s eta 0:00:01\r",
      "\u001b[K     |█████████▋                      | 51 kB 4.6 MB/s eta 0:00:01\r",
      "\u001b[K     |███████████▋                    | 61 kB 4.9 MB/s eta 0:00:01\r",
      "\u001b[K     |█████████████▌                  | 71 kB 4.4 MB/s eta 0:00:01\r",
      "\u001b[K     |███████████████▍                | 81 kB 4.9 MB/s eta 0:00:01\r",
      "\u001b[K     |█████████████████▍              | 92 kB 5.0 MB/s eta 0:00:01\r",
      "\u001b[K     |███████████████████▎            | 102 kB 4.4 MB/s eta 0:00:01\r",
      "\u001b[K     |█████████████████████▏          | 112 kB 4.4 MB/s eta 0:00:01\r",
      "\u001b[K     |███████████████████████▏        | 122 kB 4.4 MB/s eta 0:00:01\r",
      "\u001b[K     |█████████████████████████       | 133 kB 4.4 MB/s eta 0:00:01\r",
      "\u001b[K     |███████████████████████████     | 143 kB 4.4 MB/s eta 0:00:01\r",
      "\u001b[K     |█████████████████████████████   | 153 kB 4.4 MB/s eta 0:00:01\r",
      "\u001b[K     |██████████████████████████████▉ | 163 kB 4.4 MB/s eta 0:00:01\r",
      "\u001b[K     |████████████████████████████████| 170 kB 4.4 MB/s \n",
      "\u001b[?25hBuilding wheels for collected packages: emoji\n",
      "  Building wheel for emoji (setup.py) ... \u001b[?25l\u001b[?25hdone\n",
      "  Created wheel for emoji: filename=emoji-1.6.1-py3-none-any.whl size=169314 sha256=33577945c76a33077860d43c06da215179e4ff6b3c1165de61c9d1c6a2a89de2\n",
      "  Stored in directory: /root/.cache/pip/wheels/ea/5f/d3/03d313ddb3c2a1a427bb4690f1621eea60fe6f2a30cc95940f\n",
      "Successfully built emoji\n",
      "Installing collected packages: emoji\n",
      "Successfully installed emoji-1.6.1\n"
     ]
    }
   ],
   "source": [
    "!pip install emoji"
   ]
  },
  {
   "cell_type": "code",
   "execution_count": null,
   "metadata": {
    "id": "8Fl77gdlngbh"
   },
   "outputs": [],
   "source": [
    "#Indivual Dataset\n",
    "final = defaultdict(list)\n",
    "i=1 # used as final dictioanry key\n",
    "\n",
    "for line in content:\n",
    "        \n",
    "        try:\n",
    "            date = line.split('[')[0].split(',')[0] # strip just the date\n",
    "            \n",
    "            person = line.split(':')[1][7:]  # strip the persons name\n",
    "            text = ':'.join(line.split(':')[2:])  # strip just the text\n",
    "            # joins back on the ':' -> useful for smiley face ':)'\n",
    "            # which has sentiment associated\n",
    "            #print(date,text)\n",
    "            # convert emojis to their Unicode description ...works well with sentiment\n",
    "            # loop through each character to check if it's an emoji, then convert\n",
    "            #print(text)\n",
    "            # for c in text:\n",
    "            #     if c in emoji.UNICODE_EMOJI:\n",
    "            #         text = text.replace(c, emoji.demojize(c).replace('_',' ').replace(':','.'))\n",
    "            \n",
    "            # tokenize the sentence, i.e. split up into chunks based on punctuation.\n",
    "            #print(text)   \n",
    "            sentence = nltk.sent_tokenize(text)\n",
    "            num = np.array([])\n",
    "            \n",
    "            for token in sentence:\n",
    "                # calculate sentiment of token and add to the final dictionary \n",
    "                # along with person and date metrics\n",
    "                ss = sid.polarity_scores(token)\n",
    "                #print(token)\n",
    "                final[i] = [ss['compound'], person, date, token]\n",
    "                #print(final[i])\n",
    "                i+=1\n",
    "                \n",
    "        except:\n",
    "            pass"
   ]
  },
  {
   "cell_type": "code",
   "execution_count": null,
   "metadata": {
    "id": "it7O0vXlns5w"
   },
   "outputs": [],
   "source": [
    "df= pd.DataFrame(final).T"
   ]
  },
  {
   "cell_type": "code",
   "execution_count": null,
   "metadata": {
    "id": "jz_xS5qTnuI3"
   },
   "outputs": [],
   "source": [
    "#df\n",
    "#TESTING DATA\n",
    "#a1=\"22/07/2020, 5:02 PM - Person1: review 1 basically!\""
   ]
  },
  {
   "cell_type": "code",
   "execution_count": null,
   "metadata": {
    "colab": {
     "base_uri": "https://localhost:8080/"
    },
    "id": "8zOJxPnaoGi1",
    "outputId": "12ab3b94-1606-425e-da4d-1c2cc1008875"
   },
   "outputs": [
    {
     "name": "stdout",
     "output_type": "stream",
     "text": [
      " review 1 basically!\n"
     ]
    }
   ],
   "source": [
    "#date = a1.split('[')[0].split(',')[0] # strip just the date\n",
    "#person = a1.split(':')[1][7:]  # strip the persons name\n",
    "#text = ':'.join(a1.split(':')[2:])\n",
    "#print(date)\n",
    "#print(person)\n",
    "#print(text)"
   ]
  },
  {
   "cell_type": "code",
   "execution_count": null,
   "metadata": {
    "id": "HdQx7_gUoxF9"
   },
   "outputs": [],
   "source": [
    "df.columns = ['pol', 'name', 'date', 'token']\n"
   ]
  },
  {
   "cell_type": "code",
   "execution_count": null,
   "metadata": {
    "colab": {
     "base_uri": "https://localhost:8080/"
    },
    "id": "lSoZs6aao5Tk",
    "outputId": "9d630b22-3203-4dfd-dc27-b5d73819b35a"
   },
   "outputs": [
    {
     "name": "stdout",
     "output_type": "stream",
     "text": [
      "       pol  ...                                              token\n",
      "1        0  ...                             Ma'am this is Person1.\n",
      "2        0  ...  Can you allot us a time after 6PM to explain o...\n",
      "3        0  ...                                review 1 basically!\n",
      "4        0  ...                                            Regards\n",
      "5        0  ...                                I am in a  meeting.\n",
      "..     ...  ...                                                ...\n",
      "104      0  ...                                half an hour needed\n",
      "105 -0.296  ...                                         no issues.\n",
      "106      0  ...                                take time and do it\n",
      "107      0  ...                         ma'am I have sent the mail\n",
      "108  0.296  ...                                                 ok\n",
      "\n",
      "[108 rows x 4 columns]\n"
     ]
    }
   ],
   "source": [
    "print(df)"
   ]
  },
  {
   "cell_type": "code",
   "execution_count": null,
   "metadata": {
    "colab": {
     "base_uri": "https://localhost:8080/",
     "height": 81
    },
    "id": "m5V233Jqo-bs",
    "outputId": "f990b8d3-3d38-4724-f075-ebd6b3703bce"
   },
   "outputs": [
    {
     "data": {
      "text/html": [
       "<div>\n",
       "<style scoped>\n",
       "    .dataframe tbody tr th:only-of-type {\n",
       "        vertical-align: middle;\n",
       "    }\n",
       "\n",
       "    .dataframe tbody tr th {\n",
       "        vertical-align: top;\n",
       "    }\n",
       "\n",
       "    .dataframe thead th {\n",
       "        text-align: right;\n",
       "    }\n",
       "</style>\n",
       "<table border=\"1\" class=\"dataframe\">\n",
       "  <thead>\n",
       "    <tr style=\"text-align: right;\">\n",
       "      <th></th>\n",
       "      <th>pol</th>\n",
       "      <th>token</th>\n",
       "      <th>name</th>\n",
       "    </tr>\n",
       "  </thead>\n",
       "  <tbody>\n",
       "    <tr>\n",
       "      <th>83</th>\n",
       "      <td>-0.4404</td>\n",
       "      <td>it says access denied</td>\n",
       "      <td>Person1</td>\n",
       "    </tr>\n",
       "  </tbody>\n",
       "</table>\n",
       "</div>"
      ],
      "text/plain": [
       "       pol                   token      name\n",
       "83 -0.4404   it says access denied   Person1"
      ]
     },
     "execution_count": 31,
     "metadata": {},
     "output_type": "execute_result"
    }
   ],
   "source": [
    "#Example for most -ve Message\n",
    "df[['pol','token', 'name']].sort_values('pol')[:1]\n",
    "#len(df)\n",
    "#df.dtypes\n"
   ]
  },
  {
   "cell_type": "code",
   "execution_count": null,
   "metadata": {
    "id": "dsJ8e9fWYSGK"
   },
   "outputs": [],
   "source": [
    "df['pol'] = df['pol'].apply(lambda x : float(x))"
   ]
  },
  {
   "cell_type": "markdown",
   "metadata": {
    "id": "rCdmr9OOpzxx"
   },
   "source": [
    "Calculate the mean sentiment of all messages for each person, each day"
   ]
  },
  {
   "cell_type": "code",
   "execution_count": null,
   "metadata": {
    "id": "GsqhOwu4p2cK"
   },
   "outputs": [],
   "source": [
    "df2 = df.groupby(['date', 'name'], as_index=False).agg('mean')"
   ]
  },
  {
   "cell_type": "code",
   "execution_count": null,
   "metadata": {
    "colab": {
     "base_uri": "https://localhost:8080/",
     "height": 238
    },
    "id": "Cs6PR0Mkp7S8",
    "outputId": "15a47b44-205d-4094-ae9f-76c168d82b20"
   },
   "outputs": [
    {
     "data": {
      "text/html": [
       "<div>\n",
       "<style scoped>\n",
       "    .dataframe tbody tr th:only-of-type {\n",
       "        vertical-align: middle;\n",
       "    }\n",
       "\n",
       "    .dataframe tbody tr th {\n",
       "        vertical-align: top;\n",
       "    }\n",
       "\n",
       "    .dataframe thead th {\n",
       "        text-align: right;\n",
       "    }\n",
       "</style>\n",
       "<table border=\"1\" class=\"dataframe\">\n",
       "  <thead>\n",
       "    <tr style=\"text-align: right;\">\n",
       "      <th></th>\n",
       "      <th>date</th>\n",
       "      <th>name</th>\n",
       "      <th>pol</th>\n",
       "    </tr>\n",
       "  </thead>\n",
       "  <tbody>\n",
       "    <tr>\n",
       "      <th>0</th>\n",
       "      <td>01/09/2020</td>\n",
       "      <td>Person1</td>\n",
       "      <td>0.0000</td>\n",
       "    </tr>\n",
       "    <tr>\n",
       "      <th>1</th>\n",
       "      <td>01/09/2020</td>\n",
       "      <td>Person2</td>\n",
       "      <td>-0.2960</td>\n",
       "    </tr>\n",
       "    <tr>\n",
       "      <th>2</th>\n",
       "      <td>02/09/2020</td>\n",
       "      <td>Person1</td>\n",
       "      <td>0.0000</td>\n",
       "    </tr>\n",
       "    <tr>\n",
       "      <th>3</th>\n",
       "      <td>03/11/2020</td>\n",
       "      <td>Person1</td>\n",
       "      <td>0.0000</td>\n",
       "    </tr>\n",
       "    <tr>\n",
       "      <th>4</th>\n",
       "      <td>03/11/2020</td>\n",
       "      <td>Person2</td>\n",
       "      <td>0.2960</td>\n",
       "    </tr>\n",
       "    <tr>\n",
       "      <th>5</th>\n",
       "      <td>05/08/2020</td>\n",
       "      <td>Person1</td>\n",
       "      <td>0.1204</td>\n",
       "    </tr>\n",
       "  </tbody>\n",
       "</table>\n",
       "</div>"
      ],
      "text/plain": [
       "         date      name     pol\n",
       "0  01/09/2020   Person1  0.0000\n",
       "1  01/09/2020   Person2 -0.2960\n",
       "2  02/09/2020   Person1  0.0000\n",
       "3  03/11/2020   Person1  0.0000\n",
       "4  03/11/2020   Person2  0.2960\n",
       "5  05/08/2020   Person1  0.1204"
      ]
     },
     "execution_count": 34,
     "metadata": {},
     "output_type": "execute_result"
    }
   ],
   "source": [
    "df2[:6]"
   ]
  },
  {
   "cell_type": "markdown",
   "metadata": {
    "id": "0-t1jBBPqGFq"
   },
   "source": [
    "Create a 'combined' dataset, based on the mean polarity of both people in the chat:\n",
    "Similar to above, just dont need to group-by name as well"
   ]
  },
  {
   "cell_type": "code",
   "execution_count": null,
   "metadata": {
    "id": "xy4yToKwp_Bp"
   },
   "outputs": [],
   "source": [
    "df3 = df.groupby(['date'], as_index=False).agg('mean')"
   ]
  },
  {
   "cell_type": "code",
   "execution_count": null,
   "metadata": {
    "id": "jVvfztPDqJzt"
   },
   "outputs": [],
   "source": [
    "df3['name'] = 'Combined'"
   ]
  },
  {
   "cell_type": "markdown",
   "metadata": {
    "id": "gI4NZsDFqUHh"
   },
   "source": [
    "Join 'combined' onto 'original':"
   ]
  },
  {
   "cell_type": "code",
   "execution_count": null,
   "metadata": {
    "colab": {
     "base_uri": "https://localhost:8080/",
     "height": 238
    },
    "id": "A8yLOQlJqSL5",
    "outputId": "80434aae-7441-42bf-8a36-2fb7036e0d0f"
   },
   "outputs": [
    {
     "data": {
      "text/html": [
       "<div>\n",
       "<style scoped>\n",
       "    .dataframe tbody tr th:only-of-type {\n",
       "        vertical-align: middle;\n",
       "    }\n",
       "\n",
       "    .dataframe tbody tr th {\n",
       "        vertical-align: top;\n",
       "    }\n",
       "\n",
       "    .dataframe thead th {\n",
       "        text-align: right;\n",
       "    }\n",
       "</style>\n",
       "<table border=\"1\" class=\"dataframe\">\n",
       "  <thead>\n",
       "    <tr style=\"text-align: right;\">\n",
       "      <th></th>\n",
       "      <th>date</th>\n",
       "      <th>name</th>\n",
       "      <th>pol</th>\n",
       "    </tr>\n",
       "  </thead>\n",
       "  <tbody>\n",
       "    <tr>\n",
       "      <th>20</th>\n",
       "      <td>2020-07-22</td>\n",
       "      <td>Person2</td>\n",
       "      <td>0.000000</td>\n",
       "    </tr>\n",
       "    <tr>\n",
       "      <th>19</th>\n",
       "      <td>2020-07-22</td>\n",
       "      <td>Person1</td>\n",
       "      <td>0.127986</td>\n",
       "    </tr>\n",
       "    <tr>\n",
       "      <th>11</th>\n",
       "      <td>2020-07-22</td>\n",
       "      <td>Combined</td>\n",
       "      <td>0.074658</td>\n",
       "    </tr>\n",
       "    <tr>\n",
       "      <th>29</th>\n",
       "      <td>2020-07-28</td>\n",
       "      <td>Person1</td>\n",
       "      <td>0.168460</td>\n",
       "    </tr>\n",
       "    <tr>\n",
       "      <th>16</th>\n",
       "      <td>2020-07-28</td>\n",
       "      <td>Combined</td>\n",
       "      <td>0.165900</td>\n",
       "    </tr>\n",
       "    <tr>\n",
       "      <th>30</th>\n",
       "      <td>2020-07-28</td>\n",
       "      <td>Person2</td>\n",
       "      <td>0.153100</td>\n",
       "    </tr>\n",
       "  </tbody>\n",
       "</table>\n",
       "</div>"
      ],
      "text/plain": [
       "         date      name       pol\n",
       "20 2020-07-22   Person2  0.000000\n",
       "19 2020-07-22   Person1  0.127986\n",
       "11 2020-07-22  Combined  0.074658\n",
       "29 2020-07-28   Person1  0.168460\n",
       "16 2020-07-28  Combined  0.165900\n",
       "30 2020-07-28   Person2  0.153100"
      ]
     },
     "execution_count": 37,
     "metadata": {},
     "output_type": "execute_result"
    }
   ],
   "source": [
    "final =pd.concat([df2, df3])\n",
    "final['date'] = pd.to_datetime(final.date, format='%d/%m/%Y') # need to chnage 'date' to a datetime object\n",
    "final = final.sort_values('date')\n",
    "final[:6]"
   ]
  },
  {
   "cell_type": "markdown",
   "metadata": {
    "id": "IYfBJ4uJqo0F"
   },
   "source": [
    "create a numerical column that maps to the date. Makes splotting more straightforward, as some of the below plots don't like having an x-axis of type datetime...\n",
    "An easy way to do this is via a dense rank:"
   ]
  },
  {
   "cell_type": "code",
   "execution_count": null,
   "metadata": {
    "id": "GabvEtA6qj5Q"
   },
   "outputs": [],
   "source": [
    "final['x'] = final['date'].rank(method='dense', ascending=True).astype(int)\n"
   ]
  },
  {
   "cell_type": "code",
   "execution_count": null,
   "metadata": {
    "colab": {
     "base_uri": "https://localhost:8080/",
     "height": 175
    },
    "id": "SNFs86qsqse2",
    "outputId": "e3577974-382c-4764-d460-991b9c8a7744"
   },
   "outputs": [
    {
     "data": {
      "text/html": [
       "<div>\n",
       "<style scoped>\n",
       "    .dataframe tbody tr th:only-of-type {\n",
       "        vertical-align: middle;\n",
       "    }\n",
       "\n",
       "    .dataframe tbody tr th {\n",
       "        vertical-align: top;\n",
       "    }\n",
       "\n",
       "    .dataframe thead th {\n",
       "        text-align: right;\n",
       "    }\n",
       "</style>\n",
       "<table border=\"1\" class=\"dataframe\">\n",
       "  <thead>\n",
       "    <tr style=\"text-align: right;\">\n",
       "      <th></th>\n",
       "      <th>date</th>\n",
       "      <th>name</th>\n",
       "      <th>pol</th>\n",
       "      <th>x</th>\n",
       "    </tr>\n",
       "  </thead>\n",
       "  <tbody>\n",
       "    <tr>\n",
       "      <th>20</th>\n",
       "      <td>2020-07-22</td>\n",
       "      <td>Person2</td>\n",
       "      <td>0.000000</td>\n",
       "      <td>1</td>\n",
       "    </tr>\n",
       "    <tr>\n",
       "      <th>19</th>\n",
       "      <td>2020-07-22</td>\n",
       "      <td>Person1</td>\n",
       "      <td>0.127986</td>\n",
       "      <td>1</td>\n",
       "    </tr>\n",
       "    <tr>\n",
       "      <th>11</th>\n",
       "      <td>2020-07-22</td>\n",
       "      <td>Combined</td>\n",
       "      <td>0.074658</td>\n",
       "      <td>1</td>\n",
       "    </tr>\n",
       "    <tr>\n",
       "      <th>29</th>\n",
       "      <td>2020-07-28</td>\n",
       "      <td>Person1</td>\n",
       "      <td>0.168460</td>\n",
       "      <td>2</td>\n",
       "    </tr>\n",
       "  </tbody>\n",
       "</table>\n",
       "</div>"
      ],
      "text/plain": [
       "         date      name       pol  x\n",
       "20 2020-07-22   Person2  0.000000  1\n",
       "19 2020-07-22   Person1  0.127986  1\n",
       "11 2020-07-22  Combined  0.074658  1\n",
       "29 2020-07-28   Person1  0.168460  2"
      ]
     },
     "execution_count": 39,
     "metadata": {},
     "output_type": "execute_result"
    }
   ],
   "source": [
    "final[:4]"
   ]
  },
  {
   "cell_type": "code",
   "execution_count": null,
   "metadata": {
    "colab": {
     "base_uri": "https://localhost:8080/",
     "height": 405
    },
    "id": "QI6N8wq2quhF",
    "outputId": "b892e7be-4154-4d28-83a5-630f3c3b247b"
   },
   "outputs": [
    {
     "data": {
      "text/plain": [
       "<matplotlib.legend.Legend at 0x7f307f334810>"
      ]
     },
     "execution_count": 40,
     "metadata": {},
     "output_type": "execute_result"
    },
    {
     "data": {
      "image/png": "[encoded data removed]",
      "text/plain": [
       "<Figure size 576x432 with 1 Axes>"
      ]
     },
     "metadata": {},
     "output_type": "display_data"
    }
   ],
   "source": [
    "#plotting polarity for each person (and combined) against time:\n",
    "sns.set_style(\"whitegrid\")\n",
    "\n",
    "fig, ax = plt.subplots(figsize=(8,6))\n",
    "\n",
    "for label, df in final.groupby('name'):\n",
    "    df.plot(x='x', y='pol', ax=ax, label=label)\n",
    "    \n",
    "plt.legend()"
   ]
  },
  {
   "cell_type": "markdown",
   "metadata": {
    "id": "jCqBbcMDrMqs"
   },
   "source": [
    "In our above example we are also able to see a significant difference , but in general it's really quite difficult to view any significant differences between the two people. To smooth out the data a bit (which will have the effect of normalising any local high and low points)"
   ]
  },
  {
   "cell_type": "markdown",
   "metadata": {
    "id": "mPxDOi2j19HN"
   },
   "source": [
    "**With Rolling Mean:**"
   ]
  },
  {
   "cell_type": "code",
   "execution_count": null,
   "metadata": {
    "colab": {
     "base_uri": "https://localhost:8080/",
     "height": 613
    },
    "id": "0qXNBtaqq1sK",
    "outputId": "5aa05c24-4624-4008-c2ef-a14a025176f7"
   },
   "outputs": [
    {
     "data": {
      "text/plain": [
       "Text(0.5, 1.0, '4 Day Rolling Mean Sentiment')"
      ]
     },
     "execution_count": 41,
     "metadata": {},
     "output_type": "execute_result"
    },
    {
     "data": {
      "image/png": "[encoded data removed]",
      "text/plain": [
       "<Figure size 864x720 with 1 Axes>"
      ]
     },
     "metadata": {},
     "output_type": "display_data"
    }
   ],
   "source": [
    "sns.set_style(\"whitegrid\")\n",
    "fig, ax = plt.subplots(figsize=(12,10))\n",
    "colours=['b','y','g']\n",
    "i=0\n",
    "\n",
    "for label, df in final.groupby('name'):\n",
    "    \n",
    "    new=df.reset_index()\n",
    "    new['rol'] = new['pol'].rolling(4).mean() # rolling mean calculation on a 4 day basis\n",
    "    \n",
    "    g = new.plot(x='date', y='rol', ax=ax, label=label, color=colours[i]) # rolling mean plot\n",
    "    plt.scatter(df['date'].tolist(), df['pol'], color=colours[i], alpha=0.2) # underlying scatter plot\n",
    "    \n",
    "    i+=1\n",
    "\n",
    "ax.set_ybound(lower=-0.1, upper=0.4)\n",
    "ax.set_xlabel('Date', fontsize=15)\n",
    "ax.set_ylabel('Compound Sentiment', fontsize=15)\n",
    "\n",
    "g.set_title('4 Day Rolling Mean Sentiment', fontsize=18)\n",
    "\n",
    "#plt.savefig('plots/sentiment_time')   # uncomment to save"
   ]
  },
  {
   "cell_type": "markdown",
   "metadata": {
    "id": "qQnfvU0qsPs9"
   },
   "source": [
    "Classifying Dialogue using Naive Bayes , POS Tagging , Lexical Diversity\n"
   ]
  },
  {
   "cell_type": "code",
   "execution_count": null,
   "metadata": {
    "id": "n4l7EeDsrs2j"
   },
   "outputs": [],
   "source": [
    "ppl=defaultdict(list)\n",
    "\n",
    "for line in content:\n",
    "    \n",
    "    try:\n",
    "        # date = line.split('[')[1].split(',')[0]\n",
    "        person = line.split(':')[1][7:]\n",
    "        text = nltk.sent_tokenize(':'.join(line.split(':')[2:]))\n",
    "      \n",
    "        ppl[person].extend(text)   # If key exists: extend (value) list, if not create a new key with text extended to list\n",
    "           \n",
    "    except:\n",
    "        #print('Error!')\n",
    "        #print(line)   # uncomment to examine failed line\n",
    "        \n",
    "        pass\n"
   ]
  },
  {
   "cell_type": "markdown",
   "metadata": {
    "id": "wegDWuozs2wc"
   },
   "source": [
    "Dictionary -> Key is the person who sent the message, the value is a sentence-tokenized list of all the messages they've sent."
   ]
  },
  {
   "cell_type": "code",
   "execution_count": null,
   "metadata": {
    "colab": {
     "base_uri": "https://localhost:8080/"
    },
    "id": "xkuO1DifsaZv",
    "outputId": "0aa9fbb2-d483-4c65-84b4-608d23978172"
   },
   "outputs": [
    {
     "name": "stdout",
     "output_type": "stream",
     "text": [
      "defaultdict(<class 'list'>, {' Person1': [\" Ma'am this is Person1.\", 'Can you allot us a time after 6PM to explain our project title ?', ' review 1 basically!', ' Regards', \" so after 6  ma'am?\", \" Yes Ma'am , Thank You !\", \" okay ma'am\", \" Ma'am , are we allowed to run a ppt with pictures or cartoons and give our voiceover in the background\", ' instead of animation ?', ' with transitions', \" yes ma'am\", ' thanks', \" ma'am is this the animation?\", ' regards', ' thank you', \" Ma'am for DA-2 can we have 7 people in our group\", \" we can't divide as 4 and 3 people and we are not Able to find a group for that one extra person\", ' so can we have 7 people ?', \" sure ma'am\", ' thank you', \" and ma'am can we take additional one /two minutes\", ' for that extra person?', ' 11/12 min', ' the list that you shared', ' my name is there and my teammates name is not', ' so anyways can be together and finish it in todays class', \" ma'am some people in this completed because\", ' the other team member was in first 25', ' In Moodle , under the quiz marks , only 8/10 is allowed!', \" what's this ma'am?\", ' is it CAT 1 quiz m ?', \" M'am , This is Person1 , I currently tested Positive for COVID-19\", \" I'm in quarantine right now ,so is it okay if i submit the lab work\", ' a day or two late .', \"I'll try my best though to finish it by deadline (tomorrow)\", \" I am using mobile data for internet during exam so video may or may not work due to network issues  ma'am this message is to inform you priorly\", \" Is it possible to extend iwp lab submission ma'am ?\", ' by1-2 days', ' please', \" okay ma'am\", ' thank you', ' I submitted it right now', ' will it be considered?', \" ma'am , can we present our DA around 1Pm ma'am?\", ' We are 7 in number will take around 8-10 min 3 websites', ' since some people have charging issues as they have power cut due to rains want to finish it when everyone is available', \" so any time ma'am between 1 and 1 30 PM?\", \" thank you ma'am\", \" Ma'am you will call us ?\", ' in teams', ' okay', ' we are ready', \" Ma'am ,can we present review 2 for project\", ' tomorrow 1030 AM?', ' can we present in discussed time ?', \" okay ma'am\", ' waiting in teams', \" ma'am report you didn't give any format\", \" what should be done ma'am ?\", ' for review 2', ' it says access denied', \" I tried with my VIT mail id only ma'am\", \" Yes ma'am\", ' working', ' can we record the screen using our phone', ' for that video submission?', \" Video Uploaded in Youtube and link submitted in document ma'am\", \" Yes Ma'am Sure\", \" The Questions Ma'am ?\", \" but in LMS everything is hidden ma'am\", \" and I didn't have questions with me I only have the results\", ' the merge is not working .', \"I'll do it manually and send it ma'am\", ' half an hour needed', \" ma'am I have sent the mail\"], ' Person2': [' I am in a  meeting.', 'It continues till 6', ' Will let u know', ' Now only meeting over', \" Let's see later\", ' Ok, but provide some animations', ' yes', ' Try with 3 websites, then', ' K', ' Yes', ' no issues', ' No issues', ' No issues', ' The ending syntax in page 5 is not scanned properly and we will see', ' yes', ' 1 pm ok', ' Yes', ' call and remind if i missed', ' Ok', ' can give now', ' will update in Moodle', ' later', ' try now', ' new link given', ' Ok', ' Ok', ' Person1, can you send all the lab programs combined together in a word document.', 'Not necessary to have all results.', 'Just for document purpose.', ' 50160@vitstudent.ac.in', ' no issues.', 'take time and do it', ' ok']})\n"
     ]
    }
   ],
   "source": [
    "print(ppl)"
   ]
  },
  {
   "cell_type": "code",
   "execution_count": null,
   "metadata": {
    "id": "9Udl75r1sgJ3"
   },
   "outputs": [],
   "source": [
    "#<ADd EMOJI>"
   ]
  },
  {
   "cell_type": "markdown",
   "metadata": {
    "id": "wDQLeQNXvboy"
   },
   "source": [
    "Categorise Messages With A Naive Bayes Classifier"
   ]
  },
  {
   "cell_type": "markdown",
   "metadata": {
    "id": "8vBWd887vfgm"
   },
   "source": [
    "\n",
    "\n",
    "```\n",
    "`# This is formatted as code`\n",
    "```\n",
    "\n",
    "Use the nltk nps_chat data to train a naive bayes model.\n",
    "\n",
    "Each message in the dataset has already been classified into 1 of 15 categories:\n",
    "\n",
    "'Greet', 'Statement', 'Emphasis', 'Clarify', 'why Question', 'yes no Question',' Reject', 'no Answer', 'yes Answer', 'Other', 'Bye', 'Emotion', 'System', 'Accept', 'Continuer'"
   ]
  },
  {
   "cell_type": "code",
   "execution_count": null,
   "metadata": {
    "colab": {
     "base_uri": "https://localhost:8080/"
    },
    "id": "ALee_Br7vZeE",
    "outputId": "e785c516-5e93-4f74-ec47-4959f1227466"
   },
   "outputs": [
    {
     "name": "stdout",
     "output_type": "stream",
     "text": [
      "[nltk_data] Downloading package nps_chat to /root/nltk_data...\n",
      "[nltk_data]   Unzipping corpora/nps_chat.zip.\n"
     ]
    },
    {
     "data": {
      "text/plain": [
       "True"
      ]
     },
     "execution_count": 45,
     "metadata": {},
     "output_type": "execute_result"
    }
   ],
   "source": [
    "nltk.download('nps_chat')"
   ]
  },
  {
   "cell_type": "code",
   "execution_count": null,
   "metadata": {
    "id": "lfhew11FvlHZ"
   },
   "outputs": [],
   "source": [
    "posts = nltk.corpus.nps_chat.xml_posts()"
   ]
  },
  {
   "cell_type": "code",
   "execution_count": null,
   "metadata": {
    "id": "1ZeShoOZvnOE"
   },
   "outputs": [],
   "source": [
    "#Extract features from each message, tokenize by word\n",
    "def extract_features(post):\n",
    "    features = {}\n",
    "    for word in nltk.word_tokenize(post):\n",
    "        features['contains({})'.format(word.lower())] = True\n",
    "    return features"
   ]
  },
  {
   "cell_type": "code",
   "execution_count": null,
   "metadata": {
    "id": "uiRLGyFkv1t6"
   },
   "outputs": [],
   "source": [
    "fposts = [(extract_features(p.text), p.get('class')) for p in posts]"
   ]
  },
  {
   "cell_type": "code",
   "execution_count": null,
   "metadata": {
    "id": "UHJbGgIwv2pC"
   },
   "outputs": [],
   "source": [
    "#create a train and test set of the chat messages\n",
    "test_size = int(len(fposts) * 0.1)\n",
    "train_set, test_set = fposts[test_size:], fposts[:test_size]"
   ]
  },
  {
   "cell_type": "code",
   "execution_count": null,
   "metadata": {
    "id": "F7ZrjXcsv8BV"
   },
   "outputs": [],
   "source": [
    "#train the model\n",
    "classifier = nltk.NaiveBayesClassifier.train(train_set)\n"
   ]
  },
  {
   "cell_type": "code",
   "execution_count": null,
   "metadata": {
    "colab": {
     "base_uri": "https://localhost:8080/"
    },
    "id": "QRnAokwLv8Fo",
    "outputId": "f3817633-50fb-4707-ea34-067623319d24"
   },
   "outputs": [
    {
     "name": "stdout",
     "output_type": "stream",
     "text": [
      "66.85606060606061 %\n"
     ]
    }
   ],
   "source": [
    "#Test accuracy against the test set of data\n",
    "print(nltk.classify.accuracy(classifier, test_set)*100,\"%\")"
   ]
  },
  {
   "cell_type": "markdown",
   "metadata": {
    "id": "tUAhibcPwFut"
   },
   "source": []
  },
  {
   "cell_type": "markdown",
   "metadata": {
    "id": "QvJZ0nzEwJab"
   },
   "source": [
    "Some mini tests.."
   ]
  },
  {
   "cell_type": "code",
   "execution_count": null,
   "metadata": {
    "colab": {
     "base_uri": "https://localhost:8080/",
     "height": 35
    },
    "id": "oQ5688O-wLcV",
    "outputId": "b8b71178-4615-42d1-9dd9-c2e6cf1c3a28"
   },
   "outputs": [
    {
     "data": {
      "application/vnd.google.colaboratory.intrinsic+json": {
       "type": "string"
      },
      "text/plain": [
       "'Greet'"
      ]
     },
     "execution_count": 52,
     "metadata": {},
     "output_type": "execute_result"
    }
   ],
   "source": [
    "classifier.classify(extract_features('Hi there!'))\n"
   ]
  },
  {
   "cell_type": "code",
   "execution_count": null,
   "metadata": {
    "colab": {
     "base_uri": "https://localhost:8080/",
     "height": 35
    },
    "id": "EQWCwQpkwQRg",
    "outputId": "72da43e3-9455-47f1-a42d-e9988a88a573"
   },
   "outputs": [
    {
     "data": {
      "application/vnd.google.colaboratory.intrinsic+json": {
       "type": "string"
      },
      "text/plain": [
       "'ynQuestion'"
      ]
     },
     "execution_count": 53,
     "metadata": {},
     "output_type": "execute_result"
    }
   ],
   "source": [
    "classifier.classify(extract_features('Do you want to watch a film later?'))"
   ]
  },
  {
   "cell_type": "code",
   "execution_count": null,
   "metadata": {
    "colab": {
     "base_uri": "https://localhost:8080/",
     "height": 35
    },
    "id": "kqP0750PwT3X",
    "outputId": "b043806f-543e-467f-d429-a3a9137069cd"
   },
   "outputs": [
    {
     "data": {
      "application/vnd.google.colaboratory.intrinsic+json": {
       "type": "string"
      },
      "text/plain": [
       "'nAnswer'"
      ]
     },
     "execution_count": 54,
     "metadata": {},
     "output_type": "execute_result"
    }
   ],
   "source": [
    "classifier.classify(extract_features('No Issues'))"
   ]
  },
  {
   "cell_type": "code",
   "execution_count": null,
   "metadata": {
    "colab": {
     "base_uri": "https://localhost:8080/"
    },
    "id": "dDEgc2Q4wWdJ",
    "outputId": "7236d52c-3d6a-4245-ca84-995f70f9b311"
   },
   "outputs": [
    {
     "name": "stdout",
     "output_type": "stream",
     "text": [
      "Types of messages sent by each member of the chat, as classified by a Naive Bayes Classifier trained on the nltk nps_chat dataset \n",
      "***\n",
      "\n",
      " Person1: [('Statement', 34), ('ynQuestion', 13), ('whQuestion', 8), ('Clarify', 7), ('yAnswer', 4), ('Emphasis', 3), ('Reject', 3), ('nAnswer', 2), ('Continuer', 1)] \n",
      "\n",
      "\n",
      " Person2: [('Statement', 19), ('yAnswer', 5), ('nAnswer', 3), ('Reject', 2), ('Accept', 1), ('Bye', 1), ('Emphasis', 1), ('System', 1)] \n",
      "\n",
      "\n"
     ]
    }
   ],
   "source": [
    "ppl_cat= {}\n",
    "print(\"Types of messages sent by each member of the chat,\"\n",
    "      \" as classified by a Naive Bayes Classifier trained on the nltk nps_chat dataset \\n***\\n\")\n",
    "for key, val in ppl.items():\n",
    "    cat=[]\n",
    "    for sent in val:\n",
    "        cat.append(classifier.classify(extract_features(sent)))\n",
    "        count = Counter(cat)\n",
    "    ppl_cat[key] = count\n",
    "    print(\"{}: {} \\n\\n\".format(key, count.most_common()))"
   ]
  },
  {
   "cell_type": "code",
   "execution_count": null,
   "metadata": {
    "id": "zusaCsKtwjyO"
   },
   "outputs": [],
   "source": [
    "df = pd.DataFrame.from_dict(ppl_cat, orient='index')"
   ]
  },
  {
   "cell_type": "code",
   "execution_count": null,
   "metadata": {
    "id": "PDk4R21wwmYh"
   },
   "outputs": [],
   "source": [
    "df"
   ]
  },
  {
   "cell_type": "code",
   "execution_count": null,
   "metadata": {
    "id": "f0XnGGeowswx"
   },
   "outputs": [],
   "source": [
    "#since each person has sent a different number of messages, normalize these counts\n",
    "df = df.div(df.sum(axis=1), axis=0).round(3)"
   ]
  },
  {
   "cell_type": "code",
   "execution_count": null,
   "metadata": {
    "colab": {
     "base_uri": "https://localhost:8080/",
     "height": 112
    },
    "id": "QoUjoySWwwsn",
    "outputId": "707575e9-3566-4ab3-dd7f-204cf6e7b342"
   },
   "outputs": [
    {
     "data": {
      "text/html": [
       "<div>\n",
       "<style scoped>\n",
       "    .dataframe tbody tr th:only-of-type {\n",
       "        vertical-align: middle;\n",
       "    }\n",
       "\n",
       "    .dataframe tbody tr th {\n",
       "        vertical-align: top;\n",
       "    }\n",
       "\n",
       "    .dataframe thead th {\n",
       "        text-align: right;\n",
       "    }\n",
       "</style>\n",
       "<table border=\"1\" class=\"dataframe\">\n",
       "  <thead>\n",
       "    <tr style=\"text-align: right;\">\n",
       "      <th></th>\n",
       "      <th>Statement</th>\n",
       "      <th>Clarify</th>\n",
       "      <th>Emphasis</th>\n",
       "      <th>whQuestion</th>\n",
       "      <th>ynQuestion</th>\n",
       "      <th>yAnswer</th>\n",
       "      <th>Reject</th>\n",
       "      <th>nAnswer</th>\n",
       "      <th>Continuer</th>\n",
       "      <th>Accept</th>\n",
       "      <th>Bye</th>\n",
       "      <th>System</th>\n",
       "    </tr>\n",
       "  </thead>\n",
       "  <tbody>\n",
       "    <tr>\n",
       "      <th>Person1</th>\n",
       "      <td>0.453</td>\n",
       "      <td>0.093</td>\n",
       "      <td>0.04</td>\n",
       "      <td>0.107</td>\n",
       "      <td>0.173</td>\n",
       "      <td>0.053</td>\n",
       "      <td>0.040</td>\n",
       "      <td>0.027</td>\n",
       "      <td>0.013</td>\n",
       "      <td>NaN</td>\n",
       "      <td>NaN</td>\n",
       "      <td>NaN</td>\n",
       "    </tr>\n",
       "    <tr>\n",
       "      <th>Person2</th>\n",
       "      <td>0.576</td>\n",
       "      <td>NaN</td>\n",
       "      <td>0.03</td>\n",
       "      <td>NaN</td>\n",
       "      <td>NaN</td>\n",
       "      <td>0.152</td>\n",
       "      <td>0.061</td>\n",
       "      <td>0.091</td>\n",
       "      <td>NaN</td>\n",
       "      <td>0.03</td>\n",
       "      <td>0.03</td>\n",
       "      <td>0.03</td>\n",
       "    </tr>\n",
       "  </tbody>\n",
       "</table>\n",
       "</div>"
      ],
      "text/plain": [
       "          Statement  Clarify  Emphasis  ...  Accept   Bye  System\n",
       " Person1      0.453    0.093      0.04  ...     NaN   NaN     NaN\n",
       " Person2      0.576      NaN      0.03  ...    0.03  0.03    0.03\n",
       "\n",
       "[2 rows x 12 columns]"
      ]
     },
     "execution_count": 58,
     "metadata": {},
     "output_type": "execute_result"
    }
   ],
   "source": [
    "df"
   ]
  },
  {
   "cell_type": "code",
   "execution_count": null,
   "metadata": {
    "colab": {
     "base_uri": "https://localhost:8080/",
     "height": 551
    },
    "id": "CbLDIs8iw6Yl",
    "outputId": "b0ade3ad-4be1-466e-e45c-c24afe338a68"
   },
   "outputs": [
    {
     "data": {
      "image/png": "[encoded data removed]",
      "text/plain": [
       "<Figure size 720x504 with 1 Axes>"
      ]
     },
     "metadata": {},
     "output_type": "display_data"
    }
   ],
   "source": [
    "ax = df.T.plot(kind='bar', figsize=(10, 7), legend=True,\n",
    "               fontsize=16, color=['y','g'])\n",
    "\n",
    "ax.set_title(\"Frequency of Message Categories\", fontsize= 18)\n",
    "ax.set_xlabel(\"Message Category\", fontsize=14)\n",
    "ax.set_ylabel(\"Frequency\", fontsize=14)\n",
    "\n",
    "#plt.savefig('plots/cat_message')   # uncomment to save\n",
    "plt.show()"
   ]
  },
  {
   "cell_type": "markdown",
   "metadata": {
    "id": "LmAdChUc2jhD"
   },
   "source": [
    "\n",
    "**Wordcloud**\n",
    "\n",
    "**convert list to string and split individual words on a space -> list of individual words**"
   ]
  },
  {
   "cell_type": "code",
   "execution_count": null,
   "metadata": {
    "id": "Lpjo9DPrw-Ty"
   },
   "outputs": [],
   "source": [
    "p1s = ''.join(ppl[' Person1']).split()\n",
    "p2s = ' '.join(ppl[' Person2']).split()"
   ]
  },
  {
   "cell_type": "code",
   "execution_count": null,
   "metadata": {
    "colab": {
     "base_uri": "https://localhost:8080/"
    },
    "id": "oT8TJ4uv21P_",
    "outputId": "5ddcfbdc-cdd4-4724-bb6d-21fec301b1ef"
   },
   "outputs": [
    {
     "data": {
      "text/plain": [
       "['I', 'am', 'in', 'a', 'meeting.']"
      ]
     },
     "execution_count": 61,
     "metadata": {},
     "output_type": "execute_result"
    }
   ],
   "source": [
    "p2s[:5]"
   ]
  },
  {
   "cell_type": "code",
   "execution_count": null,
   "metadata": {
    "colab": {
     "base_uri": "https://localhost:8080/"
    },
    "id": "XVCV3ROU23jt",
    "outputId": "2fb103aa-6d4a-4bd0-a400-b4317a3b5b1d"
   },
   "outputs": [
    {
     "name": "stdout",
     "output_type": "stream",
     "text": [
      "[nltk_data] Downloading package stopwords to /root/nltk_data...\n",
      "[nltk_data]   Unzipping corpora/stopwords.zip.\n"
     ]
    }
   ],
   "source": [
    "nltk.download('stopwords')\n",
    "stopwords = nltk.corpus.stopwords.words('english')"
   ]
  },
  {
   "cell_type": "code",
   "execution_count": null,
   "metadata": {
    "id": "TdCS1OGK27NV"
   },
   "outputs": [],
   "source": [
    "#stopwords.append('<‎image omitted>')  # doesn't work"
   ]
  },
  {
   "cell_type": "markdown",
   "metadata": {
    "id": "9rTiDWqC3C1G"
   },
   "source": [
    "To plot Person_2's wordcloud:"
   ]
  },
  {
   "cell_type": "code",
   "execution_count": null,
   "metadata": {
    "id": "G6b7BCJ43Ieh"
   },
   "outputs": [],
   "source": [
    "filtered_words = [word for word in p2s if word not in stopwords]"
   ]
  },
  {
   "cell_type": "code",
   "execution_count": null,
   "metadata": {
    "colab": {
     "base_uri": "https://localhost:8080/"
    },
    "id": "gKYejMuw3SMu",
    "outputId": "f12f4fb0-e87e-40ff-f3e5-3c584d64b826"
   },
   "outputs": [
    {
     "data": {
      "text/plain": [
       "['I', 'meeting.', 'It', 'continues', 'till']"
      ]
     },
     "execution_count": 64,
     "metadata": {},
     "output_type": "execute_result"
    }
   ],
   "source": [
    "filtered_words[:5]"
   ]
  },
  {
   "cell_type": "code",
   "execution_count": null,
   "metadata": {
    "colab": {
     "base_uri": "https://localhost:8080/",
     "height": 248
    },
    "id": "0z3iZJqs3VdW",
    "outputId": "830cd952-f885-4cbf-953d-c60b5ec169a6"
   },
   "outputs": [
    {
     "data": {
      "image/png": "[encoded data removed]",
      "text/plain": [
       "<Figure size 432x288 with 1 Axes>"
      ]
     },
     "metadata": {},
     "output_type": "display_data"
    }
   ],
   "source": [
    "p1sf = ' '.join(filtered_words)\n",
    "wordcloud = WordCloud(width=1000, height=1000, margin=0).generate(p1sf)\n",
    "plt.imshow(wordcloud, interpolation='bilinear')\n",
    "\n",
    "plt.axis(\"off\")\n",
    "plt.margins(x=0, y=0)\n",
    "\n",
    "# plt.savefig('plots/wordcloud')"
   ]
  },
  {
   "cell_type": "markdown",
   "metadata": {
    "id": "xvUTNpsT3f_2"
   },
   "source": [
    "**Lexical Diversity**\n",
    "i.e. how many different words a person uses/ how big a persons vocabulary is (or at least choose to use)"
   ]
  },
  {
   "cell_type": "code",
   "execution_count": null,
   "metadata": {
    "colab": {
     "base_uri": "https://localhost:8080/"
    },
    "id": "qI5GjAWBR1f3",
    "outputId": "400141b8-064f-4d50-9561-59da82c703cb"
   },
   "outputs": [
    {
     "name": "stdout",
     "output_type": "stream",
     "text": [
      "[nltk_data] Downloading package averaged_perceptron_tagger to\n",
      "[nltk_data]     /root/nltk_data...\n",
      "[nltk_data]   Unzipping taggers/averaged_perceptron_tagger.zip.\n",
      "[nltk_data] Downloading package universal_tagset to /root/nltk_data...\n",
      "[nltk_data]   Unzipping taggers/universal_tagset.zip.\n"
     ]
    },
    {
     "data": {
      "text/plain": [
       "True"
      ]
     },
     "execution_count": 66,
     "metadata": {},
     "output_type": "execute_result"
    }
   ],
   "source": [
    "nltk.download('averaged_perceptron_tagger')\n",
    "nltk.download('universal_tagset')"
   ]
  },
  {
   "cell_type": "code",
   "execution_count": null,
   "metadata": {
    "colab": {
     "base_uri": "https://localhost:8080/"
    },
    "id": "W9XH9evT3eQk",
    "outputId": "1da275c5-42a6-4738-fb7d-7483939b9863"
   },
   "outputs": [
    {
     "name": "stdout",
     "output_type": "stream",
     "text": [
      " Person1's lexical diversity: 0.503921568627451 \n",
      "\n",
      " Person2's lexical diversity: 0.7741935483870968 \n",
      "\n"
     ]
    }
   ],
   "source": [
    "def lexical_diversity(text):\n",
    "    \n",
    "    return len(set(text)) / len(text)\n",
    "\n",
    "for key, value in ppl.items():\n",
    "    wrds=[]\n",
    "    \n",
    "    for line in ppl[key]:       \n",
    "        words = nltk.word_tokenize(line)\n",
    "        wrds.extend(words)\n",
    "        \n",
    "    tagged = nltk.pos_tag(wrds, tagset='universal' )\n",
    "    print(\"{}'s lexical diversity: {} \\n\".format(key, lexical_diversity(tagged)))"
   ]
  },
  {
   "cell_type": "markdown",
   "metadata": {
    "id": "vfcrbZUiSKz5"
   },
   "source": [
    "POS tagging"
   ]
  },
  {
   "cell_type": "code",
   "execution_count": null,
   "metadata": {
    "id": "xT2r75zTSeqC"
   },
   "outputs": [],
   "source": [
    "from nltk.stem.porter import *\n",
    "stemmer = PorterStemmer()\n",
    "wrds=[]\n",
    "for line1 in ppl[' Person1']:\n",
    "    words = nltk.word_tokenize(line1)\n",
    "    wrds.extend(words)\n",
    "tagged = nltk.tag.pos_tag(wrds, tagset='universal')\n",
    "tggd = nltk.FreqDist(tag for (word, tag) in tagged)"
   ]
  },
  {
   "cell_type": "code",
   "execution_count": null,
   "metadata": {
    "colab": {
     "base_uri": "https://localhost:8080/"
    },
    "id": "fhSwQ0ahSxPj",
    "outputId": "8f7dd66f-1301-4f2e-aeb5-65090f7ee182"
   },
   "outputs": [
    {
     "data": {
      "text/plain": [
       "FreqDist({'.': 36,\n",
       "          'ADJ': 26,\n",
       "          'ADP': 46,\n",
       "          'ADV': 29,\n",
       "          'CONJ': 14,\n",
       "          'DET': 30,\n",
       "          'NOUN': 128,\n",
       "          'NUM': 23,\n",
       "          'PRON': 59,\n",
       "          'PRT': 10,\n",
       "          'VERB': 107,\n",
       "          'X': 2})"
      ]
     },
     "execution_count": 69,
     "metadata": {},
     "output_type": "execute_result"
    }
   ],
   "source": [
    "tggd"
   ]
  },
  {
   "cell_type": "code",
   "execution_count": null,
   "metadata": {
    "id": "yGr70njAS76T"
   },
   "outputs": [],
   "source": [
    "counts = Counter(stemmer.stem(word) for word, tag in tagged if tag == 'VERB' )\n"
   ]
  },
  {
   "cell_type": "code",
   "execution_count": null,
   "metadata": {
    "colab": {
     "base_uri": "https://localhost:8080/"
    },
    "id": "w1XiqWO_TDb8",
    "outputId": "de957d3b-ce8b-4761-854c-12e6464e4cdb"
   },
   "outputs": [
    {
     "data": {
      "text/plain": [
       "[('is', 12), ('can', 9), ('have', 7)]"
      ]
     },
     "execution_count": 71,
     "metadata": {},
     "output_type": "execute_result"
    }
   ],
   "source": [
    "counts.most_common()[:3]"
   ]
  },
  {
   "cell_type": "markdown",
   "metadata": {
    "id": "KdQax-SyTifj"
   },
   "source": [
    "Frequency of messages by time of day each month"
   ]
  },
  {
   "cell_type": "code",
   "execution_count": null,
   "metadata": {
    "colab": {
     "base_uri": "https://localhost:8080/"
    },
    "id": "LJ9eEFUsTIVS",
    "outputId": "dd9154ef-1311-453d-b339-4b1e54af23ac"
   },
   "outputs": [
    {
     "name": "stdout",
     "output_type": "stream",
     "text": [
      "['22/07/2020, 5:02 PM ', '22/07/2020, 5:02 PM ', '22/07/2020, 5:02 PM ', '22/07/2020, 5:03 PM ', '22/07/2020, 5:03 PM ', '22/07/2020, 5:04 PM ', '22/07/2020, 5:04 PM ', '22/07/2020, 7:03 PM ', '22/07/2020, 7:04 PM ', '22/07/2020, 7:04 PM ', '28/07/2020, 6:32 PM ', '28/07/2020, 6:32 PM ', '28/07/2020, 6:32 PM ', '28/07/2020, 6:46 PM ', '28/07/2020, 6:46 PM ', '28/07/2020, 6:46 PM ', '05/08/2020, 4:13 PM ', '05/08/2020, 4:13 PM ', '05/08/2020, 4:13 PM ', '05/08/2020, 4:14 PM ', '18/08/2020, 5:43 PM ', '18/08/2020, 5:44 PM ', '18/08/2020, 5:44 PM ', '18/08/2020, 5:49 PM ', '18/08/2020, 5:50 PM ', '18/08/2020, 5:50 PM ', '18/08/2020, 5:50 PM ', '18/08/2020, 5:50 PM ', '18/08/2020, 5:50 PM ', '18/08/2020, 5:54 PM ', '26/08/2020, 9:35 AM ', '26/08/2020, 9:35 AM ', '26/08/2020, 9:36 AM ', '26/08/2020, 10:03 AM ', '01/09/2020, 8:17 PM ', '01/09/2020, 8:17 PM ', '01/09/2020, 8:17 PM ', '02/09/2020, 3:48 PM ', '02/09/2020, 3:48 PM ', '02/09/2020, 3:49 PM ', '12/09/2020, 10:17 PM ', '12/09/2020, 10:18 PM ', '12/09/2020, 10:18 PM ', '13/09/2020, 5:53 AM ', '17/09/2020, 12:09 PM ', '17/09/2020, 12:11 PM ', '27/09/2020, 9:22 PM ', '27/09/2020, 9:23 PM ', '27/09/2020, 9:23 PM ', '27/09/2020, 9:51 PM ', '27/09/2020, 11:28 PM ', '27/09/2020, 11:28 PM ', '28/09/2020, 3:35 PM ', '28/09/2020, 3:35 PM ', '28/09/2020, 3:36 PM ', '14/10/2020, 10:58 AM ', '14/10/2020, 10:59 AM ', '14/10/2020, 10:59 AM ', '14/10/2020, 10:59 AM ', '14/10/2020, 11:26 AM ', '14/10/2020, 11:41 AM ', '14/10/2020, 12:29 PM ', '14/10/2020, 12:29 PM ', '14/10/2020, 12:30 PM ', '14/10/2020, 12:30 PM ', '14/10/2020, 12:30 PM ', '14/10/2020, 12:56 PM ', '19/10/2020, 3:06 PM ', '19/10/2020, 3:06 PM ', '19/10/2020, 3:57 PM ', '20/10/2020, 10:24 AM ', '20/10/2020, 10:24 AM ', '20/10/2020, 10:25 AM ', '20/10/2020, 10:25 AM ', '20/10/2020, 10:42 AM ', '20/10/2020, 10:43 AM ', '20/10/2020, 10:43 AM ', '20/10/2020, 10:50 AM ', '20/10/2020, 10:50 AM ', '27/10/2020, 2:54 PM ', '27/10/2020, 2:54 PM ', '27/10/2020, 2:56 PM ', '27/10/2020, 2:56 PM ', '27/10/2020, 2:57 PM ', '27/10/2020, 2:57 PM ', '27/10/2020, 2:57 PM ', '03/11/2020, 9:39 AM ', '03/11/2020, 9:39 AM ', '03/11/2020, 1:46 PM ', '03/11/2020, 1:51 PM ', '24/12/2020, 10:25 AM ', '24/12/2020, 10:34 AM ', '24/12/2020, 10:34 AM ', '24/12/2020, 10:36 AM ', '24/12/2020, 10:38 AM ', '24/12/2020, 10:44 AM ', '24/12/2020, 11:19 AM ', '24/12/2020, 11:19 AM ', '24/12/2020, 11:30 AM ', '24/12/2020, 12:41 PM ', '24/12/2020, 1:23 PM ']\n"
     ]
    }
   ],
   "source": [
    "dates=[]\n",
    "for line in content:\n",
    "    try:\n",
    "        dates.append(line.split('-')[0])\n",
    "        #print(dates)\n",
    "        #print(line.split(',')[0])\n",
    "    except:\n",
    "        #print(line)   # examine the line that can't be read\n",
    "        #print('oops')\n",
    "        pass\n",
    "print(dates)"
   ]
  },
  {
   "cell_type": "code",
   "execution_count": null,
   "metadata": {
    "id": "H8JytZ3HT_g6"
   },
   "outputs": [],
   "source": [
    "date=[]\n",
    "time=[]\n",
    "for item in dates:\n",
    "    date.append(item.split(',')[0])\n",
    "    time.append((item.split(',')[1]))"
   ]
  },
  {
   "cell_type": "code",
   "execution_count": null,
   "metadata": {
    "colab": {
     "base_uri": "https://localhost:8080/"
    },
    "id": "bm433yg4VcQR",
    "outputId": "6feeabc1-a6ed-4800-9288-68b8f235aeda"
   },
   "outputs": [
    {
     "data": {
      "text/plain": [
       "['22/07/2020, 5:02 PM ', '22/07/2020, 5:02 PM ', '22/07/2020, 5:02 PM ']"
      ]
     },
     "execution_count": 74,
     "metadata": {},
     "output_type": "execute_result"
    }
   ],
   "source": [
    "dates[:3]\n"
   ]
  },
  {
   "cell_type": "code",
   "execution_count": null,
   "metadata": {
    "id": "-UiVdyDkVnF9"
   },
   "outputs": [],
   "source": [
    "df = pd.DataFrame(dates, columns =['dtm'])"
   ]
  },
  {
   "cell_type": "code",
   "execution_count": null,
   "metadata": {
    "colab": {
     "base_uri": "https://localhost:8080/",
     "height": 206
    },
    "id": "8gGKCG4bWKKq",
    "outputId": "54702632-3ee4-44ef-fdc1-45a4b7eed026"
   },
   "outputs": [
    {
     "data": {
      "text/html": [
       "<div>\n",
       "<style scoped>\n",
       "    .dataframe tbody tr th:only-of-type {\n",
       "        vertical-align: middle;\n",
       "    }\n",
       "\n",
       "    .dataframe tbody tr th {\n",
       "        vertical-align: top;\n",
       "    }\n",
       "\n",
       "    .dataframe thead th {\n",
       "        text-align: right;\n",
       "    }\n",
       "</style>\n",
       "<table border=\"1\" class=\"dataframe\">\n",
       "  <thead>\n",
       "    <tr style=\"text-align: right;\">\n",
       "      <th></th>\n",
       "      <th>dtm</th>\n",
       "    </tr>\n",
       "  </thead>\n",
       "  <tbody>\n",
       "    <tr>\n",
       "      <th>0</th>\n",
       "      <td>22/07/2020, 5:02 PM</td>\n",
       "    </tr>\n",
       "    <tr>\n",
       "      <th>1</th>\n",
       "      <td>22/07/2020, 5:02 PM</td>\n",
       "    </tr>\n",
       "    <tr>\n",
       "      <th>2</th>\n",
       "      <td>22/07/2020, 5:02 PM</td>\n",
       "    </tr>\n",
       "    <tr>\n",
       "      <th>3</th>\n",
       "      <td>22/07/2020, 5:03 PM</td>\n",
       "    </tr>\n",
       "    <tr>\n",
       "      <th>4</th>\n",
       "      <td>22/07/2020, 5:03 PM</td>\n",
       "    </tr>\n",
       "  </tbody>\n",
       "</table>\n",
       "</div>"
      ],
      "text/plain": [
       "                    dtm\n",
       "0  22/07/2020, 5:02 PM \n",
       "1  22/07/2020, 5:02 PM \n",
       "2  22/07/2020, 5:02 PM \n",
       "3  22/07/2020, 5:03 PM \n",
       "4  22/07/2020, 5:03 PM "
      ]
     },
     "execution_count": 76,
     "metadata": {},
     "output_type": "execute_result"
    }
   ],
   "source": [
    "df[:5]"
   ]
  },
  {
   "cell_type": "code",
   "execution_count": null,
   "metadata": {
    "id": "yL_uCWmuWLpZ"
   },
   "outputs": [],
   "source": [
    "#document-term matrix\n",
    "#Convert argument to datetime\n",
    "df.dtm = pd.to_datetime(df.dtm)\n"
   ]
  },
  {
   "cell_type": "code",
   "execution_count": null,
   "metadata": {
    "colab": {
     "base_uri": "https://localhost:8080/",
     "height": 419
    },
    "id": "HvsCMbw3WpnE",
    "outputId": "8445aaee-2fe2-493b-d609-007485f89343"
   },
   "outputs": [
    {
     "data": {
      "text/html": [
       "<div>\n",
       "<style scoped>\n",
       "    .dataframe tbody tr th:only-of-type {\n",
       "        vertical-align: middle;\n",
       "    }\n",
       "\n",
       "    .dataframe tbody tr th {\n",
       "        vertical-align: top;\n",
       "    }\n",
       "\n",
       "    .dataframe thead th {\n",
       "        text-align: right;\n",
       "    }\n",
       "</style>\n",
       "<table border=\"1\" class=\"dataframe\">\n",
       "  <thead>\n",
       "    <tr style=\"text-align: right;\">\n",
       "      <th></th>\n",
       "      <th>dtm</th>\n",
       "      <th>float_time</th>\n",
       "      <th>year_month</th>\n",
       "      <th>day</th>\n",
       "      <th>day_num</th>\n",
       "    </tr>\n",
       "  </thead>\n",
       "  <tbody>\n",
       "    <tr>\n",
       "      <th>67</th>\n",
       "      <td>2020-10-19 15:06:00</td>\n",
       "      <td>15.100000</td>\n",
       "      <td>2020-10</td>\n",
       "      <td>Monday</td>\n",
       "      <td>0</td>\n",
       "    </tr>\n",
       "    <tr>\n",
       "      <th>68</th>\n",
       "      <td>2020-10-19 15:06:00</td>\n",
       "      <td>15.100000</td>\n",
       "      <td>2020-10</td>\n",
       "      <td>Monday</td>\n",
       "      <td>0</td>\n",
       "    </tr>\n",
       "    <tr>\n",
       "      <th>52</th>\n",
       "      <td>2020-09-28 15:35:00</td>\n",
       "      <td>15.583333</td>\n",
       "      <td>2020-09</td>\n",
       "      <td>Monday</td>\n",
       "      <td>0</td>\n",
       "    </tr>\n",
       "    <tr>\n",
       "      <th>53</th>\n",
       "      <td>2020-09-28 15:35:00</td>\n",
       "      <td>15.583333</td>\n",
       "      <td>2020-09</td>\n",
       "      <td>Monday</td>\n",
       "      <td>0</td>\n",
       "    </tr>\n",
       "    <tr>\n",
       "      <th>54</th>\n",
       "      <td>2020-09-28 15:36:00</td>\n",
       "      <td>15.600000</td>\n",
       "      <td>2020-09</td>\n",
       "      <td>Monday</td>\n",
       "      <td>0</td>\n",
       "    </tr>\n",
       "    <tr>\n",
       "      <th>...</th>\n",
       "      <td>...</td>\n",
       "      <td>...</td>\n",
       "      <td>...</td>\n",
       "      <td>...</td>\n",
       "      <td>...</td>\n",
       "    </tr>\n",
       "    <tr>\n",
       "      <th>47</th>\n",
       "      <td>2020-09-27 21:23:00</td>\n",
       "      <td>21.383333</td>\n",
       "      <td>2020-09</td>\n",
       "      <td>Sunday</td>\n",
       "      <td>6</td>\n",
       "    </tr>\n",
       "    <tr>\n",
       "      <th>48</th>\n",
       "      <td>2020-09-27 21:23:00</td>\n",
       "      <td>21.383333</td>\n",
       "      <td>2020-09</td>\n",
       "      <td>Sunday</td>\n",
       "      <td>6</td>\n",
       "    </tr>\n",
       "    <tr>\n",
       "      <th>49</th>\n",
       "      <td>2020-09-27 21:51:00</td>\n",
       "      <td>21.850000</td>\n",
       "      <td>2020-09</td>\n",
       "      <td>Sunday</td>\n",
       "      <td>6</td>\n",
       "    </tr>\n",
       "    <tr>\n",
       "      <th>37</th>\n",
       "      <td>2020-02-09 15:48:00</td>\n",
       "      <td>15.800000</td>\n",
       "      <td>2020-02</td>\n",
       "      <td>Sunday</td>\n",
       "      <td>6</td>\n",
       "    </tr>\n",
       "    <tr>\n",
       "      <th>50</th>\n",
       "      <td>2020-09-27 23:28:00</td>\n",
       "      <td>23.466667</td>\n",
       "      <td>2020-09</td>\n",
       "      <td>Sunday</td>\n",
       "      <td>6</td>\n",
       "    </tr>\n",
       "  </tbody>\n",
       "</table>\n",
       "<p>101 rows × 5 columns</p>\n",
       "</div>"
      ],
      "text/plain": [
       "                   dtm  float_time year_month     day  day_num\n",
       "67 2020-10-19 15:06:00   15.100000    2020-10  Monday        0\n",
       "68 2020-10-19 15:06:00   15.100000    2020-10  Monday        0\n",
       "52 2020-09-28 15:35:00   15.583333    2020-09  Monday        0\n",
       "53 2020-09-28 15:35:00   15.583333    2020-09  Monday        0\n",
       "54 2020-09-28 15:36:00   15.600000    2020-09  Monday        0\n",
       "..                 ...         ...        ...     ...      ...\n",
       "47 2020-09-27 21:23:00   21.383333    2020-09  Sunday        6\n",
       "48 2020-09-27 21:23:00   21.383333    2020-09  Sunday        6\n",
       "49 2020-09-27 21:51:00   21.850000    2020-09  Sunday        6\n",
       "37 2020-02-09 15:48:00   15.800000    2020-02  Sunday        6\n",
       "50 2020-09-27 23:28:00   23.466667    2020-09  Sunday        6\n",
       "\n",
       "[101 rows x 5 columns]"
      ]
     },
     "execution_count": 323,
     "metadata": {},
     "output_type": "execute_result"
    }
   ],
   "source": [
    "df"
   ]
  },
  {
   "cell_type": "code",
   "execution_count": null,
   "metadata": {
    "id": "qnEZwkggWvrs"
   },
   "outputs": [],
   "source": [
    "df['float_time'] = df.dtm.dt.hour+df.dtm.dt.minute/60.0"
   ]
  },
  {
   "cell_type": "code",
   "execution_count": null,
   "metadata": {
    "id": "7HwTYk0AWy3_"
   },
   "outputs": [],
   "source": [
    "df['year_month'] = df.dtm.dt.to_period('M')"
   ]
  },
  {
   "cell_type": "code",
   "execution_count": null,
   "metadata": {
    "id": "LGSOQW-3Wy7J"
   },
   "outputs": [],
   "source": [
    "df['day'] = df.dtm.dt.day_name()"
   ]
  },
  {
   "cell_type": "code",
   "execution_count": null,
   "metadata": {
    "id": "88NuLmyHW-QR"
   },
   "outputs": [],
   "source": [
    "df['day_num'] = df.dtm.dt.dayofweek\n"
   ]
  },
  {
   "cell_type": "code",
   "execution_count": null,
   "metadata": {
    "id": "TzNu97yvXBmX"
   },
   "outputs": [],
   "source": [
    "df = df.sort_values('day_num')   # change this to 'year_month' if wanting to plot by this instead\n"
   ]
  },
  {
   "cell_type": "code",
   "execution_count": null,
   "metadata": {
    "id": "tQiODq2ZXEsf"
   },
   "outputs": [],
   "source": [
    "df['freq'] = df.groupby('day')['day'].transform('count')\n"
   ]
  },
  {
   "cell_type": "code",
   "execution_count": null,
   "metadata": {
    "colab": {
     "base_uri": "https://localhost:8080/",
     "height": 1000
    },
    "id": "q6dqALhwXGVr",
    "outputId": "76b39dc8-3484-4553-ef22-92bb9d61714c"
   },
   "outputs": [
    {
     "data": {
      "text/html": [
       "<div>\n",
       "<style scoped>\n",
       "    .dataframe tbody tr th:only-of-type {\n",
       "        vertical-align: middle;\n",
       "    }\n",
       "\n",
       "    .dataframe tbody tr th {\n",
       "        vertical-align: top;\n",
       "    }\n",
       "\n",
       "    .dataframe thead th {\n",
       "        text-align: right;\n",
       "    }\n",
       "</style>\n",
       "<table border=\"1\" class=\"dataframe\">\n",
       "  <thead>\n",
       "    <tr style=\"text-align: right;\">\n",
       "      <th></th>\n",
       "      <th>dtm</th>\n",
       "      <th>float_time</th>\n",
       "      <th>year_month</th>\n",
       "      <th>day</th>\n",
       "      <th>day_num</th>\n",
       "      <th>freq</th>\n",
       "    </tr>\n",
       "  </thead>\n",
       "  <tbody>\n",
       "    <tr>\n",
       "      <th>67</th>\n",
       "      <td>2020-10-19 15:06:00</td>\n",
       "      <td>15.100000</td>\n",
       "      <td>2020-10</td>\n",
       "      <td>Monday</td>\n",
       "      <td>0</td>\n",
       "      <td>6</td>\n",
       "    </tr>\n",
       "    <tr>\n",
       "      <th>68</th>\n",
       "      <td>2020-10-19 15:06:00</td>\n",
       "      <td>15.100000</td>\n",
       "      <td>2020-10</td>\n",
       "      <td>Monday</td>\n",
       "      <td>0</td>\n",
       "      <td>6</td>\n",
       "    </tr>\n",
       "    <tr>\n",
       "      <th>52</th>\n",
       "      <td>2020-09-28 15:35:00</td>\n",
       "      <td>15.583333</td>\n",
       "      <td>2020-09</td>\n",
       "      <td>Monday</td>\n",
       "      <td>0</td>\n",
       "      <td>6</td>\n",
       "    </tr>\n",
       "    <tr>\n",
       "      <th>53</th>\n",
       "      <td>2020-09-28 15:35:00</td>\n",
       "      <td>15.583333</td>\n",
       "      <td>2020-09</td>\n",
       "      <td>Monday</td>\n",
       "      <td>0</td>\n",
       "      <td>6</td>\n",
       "    </tr>\n",
       "    <tr>\n",
       "      <th>54</th>\n",
       "      <td>2020-09-28 15:36:00</td>\n",
       "      <td>15.600000</td>\n",
       "      <td>2020-09</td>\n",
       "      <td>Monday</td>\n",
       "      <td>0</td>\n",
       "      <td>6</td>\n",
       "    </tr>\n",
       "    <tr>\n",
       "      <th>69</th>\n",
       "      <td>2020-10-19 15:57:00</td>\n",
       "      <td>15.950000</td>\n",
       "      <td>2020-10</td>\n",
       "      <td>Monday</td>\n",
       "      <td>0</td>\n",
       "      <td>6</td>\n",
       "    </tr>\n",
       "    <tr>\n",
       "      <th>79</th>\n",
       "      <td>2020-10-27 14:54:00</td>\n",
       "      <td>14.900000</td>\n",
       "      <td>2020-10</td>\n",
       "      <td>Tuesday</td>\n",
       "      <td>1</td>\n",
       "      <td>32</td>\n",
       "    </tr>\n",
       "    <tr>\n",
       "      <th>23</th>\n",
       "      <td>2020-08-18 17:49:00</td>\n",
       "      <td>17.816667</td>\n",
       "      <td>2020-08</td>\n",
       "      <td>Tuesday</td>\n",
       "      <td>1</td>\n",
       "      <td>32</td>\n",
       "    </tr>\n",
       "    <tr>\n",
       "      <th>83</th>\n",
       "      <td>2020-10-27 14:57:00</td>\n",
       "      <td>14.950000</td>\n",
       "      <td>2020-10</td>\n",
       "      <td>Tuesday</td>\n",
       "      <td>1</td>\n",
       "      <td>32</td>\n",
       "    </tr>\n",
       "    <tr>\n",
       "      <th>25</th>\n",
       "      <td>2020-08-18 17:50:00</td>\n",
       "      <td>17.833333</td>\n",
       "      <td>2020-08</td>\n",
       "      <td>Tuesday</td>\n",
       "      <td>1</td>\n",
       "      <td>32</td>\n",
       "    </tr>\n",
       "    <tr>\n",
       "      <th>26</th>\n",
       "      <td>2020-08-18 17:50:00</td>\n",
       "      <td>17.833333</td>\n",
       "      <td>2020-08</td>\n",
       "      <td>Tuesday</td>\n",
       "      <td>1</td>\n",
       "      <td>32</td>\n",
       "    </tr>\n",
       "    <tr>\n",
       "      <th>27</th>\n",
       "      <td>2020-08-18 17:50:00</td>\n",
       "      <td>17.833333</td>\n",
       "      <td>2020-08</td>\n",
       "      <td>Tuesday</td>\n",
       "      <td>1</td>\n",
       "      <td>32</td>\n",
       "    </tr>\n",
       "    <tr>\n",
       "      <th>29</th>\n",
       "      <td>2020-08-18 17:54:00</td>\n",
       "      <td>17.900000</td>\n",
       "      <td>2020-08</td>\n",
       "      <td>Tuesday</td>\n",
       "      <td>1</td>\n",
       "      <td>32</td>\n",
       "    </tr>\n",
       "    <tr>\n",
       "      <th>22</th>\n",
       "      <td>2020-08-18 17:44:00</td>\n",
       "      <td>17.733333</td>\n",
       "      <td>2020-08</td>\n",
       "      <td>Tuesday</td>\n",
       "      <td>1</td>\n",
       "      <td>32</td>\n",
       "    </tr>\n",
       "    <tr>\n",
       "      <th>78</th>\n",
       "      <td>2020-10-20 10:50:00</td>\n",
       "      <td>10.833333</td>\n",
       "      <td>2020-10</td>\n",
       "      <td>Tuesday</td>\n",
       "      <td>1</td>\n",
       "      <td>32</td>\n",
       "    </tr>\n",
       "    <tr>\n",
       "      <th>80</th>\n",
       "      <td>2020-10-27 14:54:00</td>\n",
       "      <td>14.900000</td>\n",
       "      <td>2020-10</td>\n",
       "      <td>Tuesday</td>\n",
       "      <td>1</td>\n",
       "      <td>32</td>\n",
       "    </tr>\n",
       "    <tr>\n",
       "      <th>81</th>\n",
       "      <td>2020-10-27 14:56:00</td>\n",
       "      <td>14.933333</td>\n",
       "      <td>2020-10</td>\n",
       "      <td>Tuesday</td>\n",
       "      <td>1</td>\n",
       "      <td>32</td>\n",
       "    </tr>\n",
       "    <tr>\n",
       "      <th>85</th>\n",
       "      <td>2020-10-27 14:57:00</td>\n",
       "      <td>14.950000</td>\n",
       "      <td>2020-10</td>\n",
       "      <td>Tuesday</td>\n",
       "      <td>1</td>\n",
       "      <td>32</td>\n",
       "    </tr>\n",
       "    <tr>\n",
       "      <th>84</th>\n",
       "      <td>2020-10-27 14:57:00</td>\n",
       "      <td>14.950000</td>\n",
       "      <td>2020-10</td>\n",
       "      <td>Tuesday</td>\n",
       "      <td>1</td>\n",
       "      <td>32</td>\n",
       "    </tr>\n",
       "    <tr>\n",
       "      <th>28</th>\n",
       "      <td>2020-08-18 17:50:00</td>\n",
       "      <td>17.833333</td>\n",
       "      <td>2020-08</td>\n",
       "      <td>Tuesday</td>\n",
       "      <td>1</td>\n",
       "      <td>32</td>\n",
       "    </tr>\n",
       "    <tr>\n",
       "      <th>21</th>\n",
       "      <td>2020-08-18 17:44:00</td>\n",
       "      <td>17.733333</td>\n",
       "      <td>2020-08</td>\n",
       "      <td>Tuesday</td>\n",
       "      <td>1</td>\n",
       "      <td>32</td>\n",
       "    </tr>\n",
       "    <tr>\n",
       "      <th>24</th>\n",
       "      <td>2020-08-18 17:50:00</td>\n",
       "      <td>17.833333</td>\n",
       "      <td>2020-08</td>\n",
       "      <td>Tuesday</td>\n",
       "      <td>1</td>\n",
       "      <td>32</td>\n",
       "    </tr>\n",
       "    <tr>\n",
       "      <th>82</th>\n",
       "      <td>2020-10-27 14:56:00</td>\n",
       "      <td>14.933333</td>\n",
       "      <td>2020-10</td>\n",
       "      <td>Tuesday</td>\n",
       "      <td>1</td>\n",
       "      <td>32</td>\n",
       "    </tr>\n",
       "    <tr>\n",
       "      <th>71</th>\n",
       "      <td>2020-10-20 10:24:00</td>\n",
       "      <td>10.400000</td>\n",
       "      <td>2020-10</td>\n",
       "      <td>Tuesday</td>\n",
       "      <td>1</td>\n",
       "      <td>32</td>\n",
       "    </tr>\n",
       "    <tr>\n",
       "      <th>20</th>\n",
       "      <td>2020-08-18 17:43:00</td>\n",
       "      <td>17.716667</td>\n",
       "      <td>2020-08</td>\n",
       "      <td>Tuesday</td>\n",
       "      <td>1</td>\n",
       "      <td>32</td>\n",
       "    </tr>\n",
       "    <tr>\n",
       "      <th>72</th>\n",
       "      <td>2020-10-20 10:25:00</td>\n",
       "      <td>10.416667</td>\n",
       "      <td>2020-10</td>\n",
       "      <td>Tuesday</td>\n",
       "      <td>1</td>\n",
       "      <td>32</td>\n",
       "    </tr>\n",
       "    <tr>\n",
       "      <th>73</th>\n",
       "      <td>2020-10-20 10:25:00</td>\n",
       "      <td>10.416667</td>\n",
       "      <td>2020-10</td>\n",
       "      <td>Tuesday</td>\n",
       "      <td>1</td>\n",
       "      <td>32</td>\n",
       "    </tr>\n",
       "    <tr>\n",
       "      <th>74</th>\n",
       "      <td>2020-10-20 10:42:00</td>\n",
       "      <td>10.700000</td>\n",
       "      <td>2020-10</td>\n",
       "      <td>Tuesday</td>\n",
       "      <td>1</td>\n",
       "      <td>32</td>\n",
       "    </tr>\n",
       "    <tr>\n",
       "      <th>75</th>\n",
       "      <td>2020-10-20 10:43:00</td>\n",
       "      <td>10.716667</td>\n",
       "      <td>2020-10</td>\n",
       "      <td>Tuesday</td>\n",
       "      <td>1</td>\n",
       "      <td>32</td>\n",
       "    </tr>\n",
       "    <tr>\n",
       "      <th>76</th>\n",
       "      <td>2020-10-20 10:43:00</td>\n",
       "      <td>10.716667</td>\n",
       "      <td>2020-10</td>\n",
       "      <td>Tuesday</td>\n",
       "      <td>1</td>\n",
       "      <td>32</td>\n",
       "    </tr>\n",
       "    <tr>\n",
       "      <th>11</th>\n",
       "      <td>2020-07-28 18:32:00</td>\n",
       "      <td>18.533333</td>\n",
       "      <td>2020-07</td>\n",
       "      <td>Tuesday</td>\n",
       "      <td>1</td>\n",
       "      <td>32</td>\n",
       "    </tr>\n",
       "    <tr>\n",
       "      <th>12</th>\n",
       "      <td>2020-07-28 18:32:00</td>\n",
       "      <td>18.533333</td>\n",
       "      <td>2020-07</td>\n",
       "      <td>Tuesday</td>\n",
       "      <td>1</td>\n",
       "      <td>32</td>\n",
       "    </tr>\n",
       "    <tr>\n",
       "      <th>13</th>\n",
       "      <td>2020-07-28 18:46:00</td>\n",
       "      <td>18.766667</td>\n",
       "      <td>2020-07</td>\n",
       "      <td>Tuesday</td>\n",
       "      <td>1</td>\n",
       "      <td>32</td>\n",
       "    </tr>\n",
       "    <tr>\n",
       "      <th>14</th>\n",
       "      <td>2020-07-28 18:46:00</td>\n",
       "      <td>18.766667</td>\n",
       "      <td>2020-07</td>\n",
       "      <td>Tuesday</td>\n",
       "      <td>1</td>\n",
       "      <td>32</td>\n",
       "    </tr>\n",
       "    <tr>\n",
       "      <th>15</th>\n",
       "      <td>2020-07-28 18:46:00</td>\n",
       "      <td>18.766667</td>\n",
       "      <td>2020-07</td>\n",
       "      <td>Tuesday</td>\n",
       "      <td>1</td>\n",
       "      <td>32</td>\n",
       "    </tr>\n",
       "    <tr>\n",
       "      <th>77</th>\n",
       "      <td>2020-10-20 10:50:00</td>\n",
       "      <td>10.833333</td>\n",
       "      <td>2020-10</td>\n",
       "      <td>Tuesday</td>\n",
       "      <td>1</td>\n",
       "      <td>32</td>\n",
       "    </tr>\n",
       "    <tr>\n",
       "      <th>10</th>\n",
       "      <td>2020-07-28 18:32:00</td>\n",
       "      <td>18.533333</td>\n",
       "      <td>2020-07</td>\n",
       "      <td>Tuesday</td>\n",
       "      <td>1</td>\n",
       "      <td>32</td>\n",
       "    </tr>\n",
       "    <tr>\n",
       "      <th>70</th>\n",
       "      <td>2020-10-20 10:24:00</td>\n",
       "      <td>10.400000</td>\n",
       "      <td>2020-10</td>\n",
       "      <td>Tuesday</td>\n",
       "      <td>1</td>\n",
       "      <td>32</td>\n",
       "    </tr>\n",
       "    <tr>\n",
       "      <th>55</th>\n",
       "      <td>2020-10-14 10:58:00</td>\n",
       "      <td>10.966667</td>\n",
       "      <td>2020-10</td>\n",
       "      <td>Wednesday</td>\n",
       "      <td>2</td>\n",
       "      <td>33</td>\n",
       "    </tr>\n",
       "    <tr>\n",
       "      <th>65</th>\n",
       "      <td>2020-10-14 12:30:00</td>\n",
       "      <td>12.500000</td>\n",
       "      <td>2020-10</td>\n",
       "      <td>Wednesday</td>\n",
       "      <td>2</td>\n",
       "      <td>33</td>\n",
       "    </tr>\n",
       "  </tbody>\n",
       "</table>\n",
       "</div>"
      ],
      "text/plain": [
       "                   dtm  float_time year_month        day  day_num  freq\n",
       "67 2020-10-19 15:06:00   15.100000    2020-10     Monday        0     6\n",
       "68 2020-10-19 15:06:00   15.100000    2020-10     Monday        0     6\n",
       "52 2020-09-28 15:35:00   15.583333    2020-09     Monday        0     6\n",
       "53 2020-09-28 15:35:00   15.583333    2020-09     Monday        0     6\n",
       "54 2020-09-28 15:36:00   15.600000    2020-09     Monday        0     6\n",
       "69 2020-10-19 15:57:00   15.950000    2020-10     Monday        0     6\n",
       "79 2020-10-27 14:54:00   14.900000    2020-10    Tuesday        1    32\n",
       "23 2020-08-18 17:49:00   17.816667    2020-08    Tuesday        1    32\n",
       "83 2020-10-27 14:57:00   14.950000    2020-10    Tuesday        1    32\n",
       "25 2020-08-18 17:50:00   17.833333    2020-08    Tuesday        1    32\n",
       "26 2020-08-18 17:50:00   17.833333    2020-08    Tuesday        1    32\n",
       "27 2020-08-18 17:50:00   17.833333    2020-08    Tuesday        1    32\n",
       "29 2020-08-18 17:54:00   17.900000    2020-08    Tuesday        1    32\n",
       "22 2020-08-18 17:44:00   17.733333    2020-08    Tuesday        1    32\n",
       "78 2020-10-20 10:50:00   10.833333    2020-10    Tuesday        1    32\n",
       "80 2020-10-27 14:54:00   14.900000    2020-10    Tuesday        1    32\n",
       "81 2020-10-27 14:56:00   14.933333    2020-10    Tuesday        1    32\n",
       "85 2020-10-27 14:57:00   14.950000    2020-10    Tuesday        1    32\n",
       "84 2020-10-27 14:57:00   14.950000    2020-10    Tuesday        1    32\n",
       "28 2020-08-18 17:50:00   17.833333    2020-08    Tuesday        1    32\n",
       "21 2020-08-18 17:44:00   17.733333    2020-08    Tuesday        1    32\n",
       "24 2020-08-18 17:50:00   17.833333    2020-08    Tuesday        1    32\n",
       "82 2020-10-27 14:56:00   14.933333    2020-10    Tuesday        1    32\n",
       "71 2020-10-20 10:24:00   10.400000    2020-10    Tuesday        1    32\n",
       "20 2020-08-18 17:43:00   17.716667    2020-08    Tuesday        1    32\n",
       "72 2020-10-20 10:25:00   10.416667    2020-10    Tuesday        1    32\n",
       "73 2020-10-20 10:25:00   10.416667    2020-10    Tuesday        1    32\n",
       "74 2020-10-20 10:42:00   10.700000    2020-10    Tuesday        1    32\n",
       "75 2020-10-20 10:43:00   10.716667    2020-10    Tuesday        1    32\n",
       "76 2020-10-20 10:43:00   10.716667    2020-10    Tuesday        1    32\n",
       "11 2020-07-28 18:32:00   18.533333    2020-07    Tuesday        1    32\n",
       "12 2020-07-28 18:32:00   18.533333    2020-07    Tuesday        1    32\n",
       "13 2020-07-28 18:46:00   18.766667    2020-07    Tuesday        1    32\n",
       "14 2020-07-28 18:46:00   18.766667    2020-07    Tuesday        1    32\n",
       "15 2020-07-28 18:46:00   18.766667    2020-07    Tuesday        1    32\n",
       "77 2020-10-20 10:50:00   10.833333    2020-10    Tuesday        1    32\n",
       "10 2020-07-28 18:32:00   18.533333    2020-07    Tuesday        1    32\n",
       "70 2020-10-20 10:24:00   10.400000    2020-10    Tuesday        1    32\n",
       "55 2020-10-14 10:58:00   10.966667    2020-10  Wednesday        2    33\n",
       "65 2020-10-14 12:30:00   12.500000    2020-10  Wednesday        2    33"
      ]
     },
     "execution_count": 86,
     "metadata": {},
     "output_type": "execute_result"
    }
   ],
   "source": [
    "df[:40]"
   ]
  },
  {
   "cell_type": "code",
   "execution_count": null,
   "metadata": {
    "id": "8-rLcjdTXN8p"
   },
   "outputs": [],
   "source": [
    "pal = sns.cubehelix_palette(7, rot=-.25, light=.7)\n",
    "days_freq = list(df.day.value_counts().index)"
   ]
  },
  {
   "cell_type": "code",
   "execution_count": null,
   "metadata": {
    "colab": {
     "base_uri": "https://localhost:8080/"
    },
    "id": "BkLMyx9hXfNG",
    "outputId": "e283855a-2c6a-479b-f4f5-42aaaa35117a"
   },
   "outputs": [
    {
     "data": {
      "text/plain": [
       "['Wednesday', 'Tuesday', 'Thursday', 'Sunday', 'Monday', 'Friday']"
      ]
     },
     "execution_count": 88,
     "metadata": {},
     "output_type": "execute_result"
    }
   ],
   "source": [
    "days_freq\n"
   ]
  },
  {
   "cell_type": "code",
   "execution_count": null,
   "metadata": {
    "colab": {
     "base_uri": "https://localhost:8080/"
    },
    "id": "NE_ANvfAYHSj",
    "outputId": "8f5cdc6a-a60f-46dc-b264-fb3c5566cb4c"
   },
   "outputs": [
    {
     "data": {
      "text/plain": [
       "[('Monday', [0.12071162840208301, 0.14526386650440642, 0.2463679091477368]),\n",
       " ('Tuesday', [0.18152581198633005, 0.24364059111738742, 0.37281834227732574]),\n",
       " ('Wednesday', [0.2426591079772084, 0.3511228226876375, 0.4852103253459974]),\n",
       " ('Thursday', [0.30463866738797124, 0.45571986933681846, 0.5751187147066701]),\n",
       " ('Friday', [0.3781016811140187, 0.5633546614344814, 0.6530658354036274]),\n",
       " ('Saturday', [0.46091631066717925, 0.662287611911293, 0.7165315069314769]),\n",
       " ('Sunday', [0.5632111255041908, 0.758620966612444, 0.7764634182455044])]"
      ]
     },
     "execution_count": 89,
     "metadata": {},
     "output_type": "execute_result"
    }
   ],
   "source": [
    "\n",
    "days = ['Monday', 'Tuesday', 'Wednesday', 'Thursday', 'Friday', 'Saturday', 'Sunday']\n",
    "#This is essentially the current order of colours\n",
    "lst = list(zip(days, pal[::-1]))\n",
    "lst "
   ]
  },
  {
   "cell_type": "code",
   "execution_count": null,
   "metadata": {
    "id": "IUzgImUVYL4N"
   },
   "outputs": [],
   "source": [
    "pal_reorder=[]\n",
    "\n",
    "for i in days:\n",
    "    #print(i)\n",
    "    j=0\n",
    "    for day in days_freq:\n",
    "        \n",
    "        if i == day:\n",
    "            #print(lst[j][1])\n",
    "            pal_reorder.append(lst[j][1])\n",
    "        j+=1"
   ]
  },
  {
   "cell_type": "code",
   "execution_count": null,
   "metadata": {
    "colab": {
     "base_uri": "https://localhost:8080/"
    },
    "id": "tLVmBOgoYT8f",
    "outputId": "af4ef39b-2439-426d-b41d-296942238037"
   },
   "outputs": [
    {
     "data": {
      "text/plain": [
       "[[0.3781016811140187, 0.5633546614344814, 0.6530658354036274],\n",
       " [0.18152581198633005, 0.24364059111738742, 0.37281834227732574],\n",
       " [0.12071162840208301, 0.14526386650440642, 0.2463679091477368],\n",
       " [0.2426591079772084, 0.3511228226876375, 0.4852103253459974],\n",
       " [0.46091631066717925, 0.662287611911293, 0.7165315069314769],\n",
       " [0.30463866738797124, 0.45571986933681846, 0.5751187147066701]]"
      ]
     },
     "execution_count": 91,
     "metadata": {},
     "output_type": "execute_result"
    }
   ],
   "source": [
    "pal_reorder"
   ]
  },
  {
   "cell_type": "code",
   "execution_count": null,
   "metadata": {
    "id": "MsPbfzTvjwzl"
   },
   "outputs": [],
   "source": [
    "sns.set(style=\"white\", rc={\"axes.facecolor\": (0, 0, 0, 0)})\n",
    "pal = sns.cubehelix_palette(7, rot=-.25, light=.7)\n",
    "g = sns.FacetGrid(df[(df.float_time > 8)], row=\"day\", hue=\"day\", aspect=10, size=1.5, palette=pal_reorder, xlim=(7,24))\n",
    "\n",
    "# Draw the densities in a few steps\n",
    "g.map(sns.kdeplot, \"float_time\", clip_on=False, shade=True, alpha=1, lw=1.5, bw=.2)\n",
    "g.map(sns.kdeplot, \"float_time\", clip_on=False, color=\"w\", lw=3, bw=.2)\n",
    "g.map(plt.axhline, y=0, lw=1, clip_on=False)\n",
    "\n",
    "# Define and use a simple function to label the plot in axes coordinates\n",
    "def label(x, color, label):\n",
    "    ax = plt.gca()\n",
    "    ax.text(0, 0.1, label, fontweight=\"bold\", color=color, \n",
    "            ha=\"left\", va=\"center\", transform=ax.transAxes, size=18)\n",
    "\n",
    "g.map(label, \"float_time\")\n",
    "g.set_xlabels('Time of Day', fontsize=30)\n",
    "g.set_xticklabels(fontsize=20)\n",
    "# Set the subplots to overlap\n",
    "g.fig.subplots_adjust(hspace=-0.5)\n",
    "g.fig.suptitle('Message Density by Time and Day of the Week, Shaded by Total Message Count', fontsize=22)   \n",
    "g.set_titles(\"\")\n",
    "g.set(yticks=[])\n",
    "g.despine(bottom=True, left=True)"
   ]
  },
  {
   "cell_type": "markdown",
   "metadata": {
    "id": "cr2CT1BD3QVJ"
   },
   "source": [
    "![Screenshot 2021-12-09 at 11.53.46 AM.png](data:image/png;base64,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)"
   ]
  }
 ],
 "metadata": {
  "colab": {
   "collapsed_sections": [],
   "name": "NLP_PROJECT_TEST_1",
   "provenance": []
  },
  "kernelspec": {
   "display_name": "Python 3 (ipykernel)",
   "language": "python",
   "name": "python3"
  },
  "language_info": {
   "codemirror_mode": {
    "name": "ipython",
    "version": 3
   },
   "file_extension": ".py",
   "mimetype": "text/x-python",
   "name": "python",
   "nbconvert_exporter": "python",
   "pygments_lexer": "ipython3",
   "version": "3.8.5"
  }
 },
 "nbformat": 4,
 "nbformat_minor": 1
}
